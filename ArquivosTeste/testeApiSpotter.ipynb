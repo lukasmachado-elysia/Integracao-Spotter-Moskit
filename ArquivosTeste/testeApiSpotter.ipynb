{
 "cells": [
  {
   "cell_type": "code",
   "execution_count": 2,
   "metadata": {},
   "outputs": [],
   "source": [
    "import requests\n",
    "import json\n",
    "\n",
    "head = {\n",
    "        'Content-Type': 'application/json',\n",
    "        'token_exact': '35a33b30-e84b-4fcb-ae12-4dd98f569be3'}"
   ]
  },
  {
   "cell_type": "code",
   "execution_count": 6,
   "metadata": {},
   "outputs": [
    {
     "name": "stdout",
     "output_type": "stream",
     "text": [
      "200\n"
     ]
    }
   ],
   "source": [
    "data1 = {'Event': 'event.schedule', 'Appointment': {'BoxId': 9548163, 'PreviousBoxId': 0, \n",
    "        'SalesRep': {'Name': 'Réver', 'LastName': 'Martins', 'Email': 'rever@elysia.com.br'}, \n",
    "        'MeetingType': 'Conferência web', 'LinkFeedback': 'https://app.exactspotter.com/reuniao/MTMzMzY5OA2', \n",
    "        'DateTimeStartDate': '2022-12-14T11:00:00', 'DateTimeEndDate': '2022-12-14T12:00:00', 'MeetingTypeEnum': 2},\n",
    "        'Lead': {'Id': 10999734, 'Company': 'Teste Integração Moskit', 'CreatedAt': '2022-12-13T18:19:53.9880059', \n",
    "        'UpdatedAt': '2022-12-13T18:21:33.6605691', 'Contact': [{'Id': 11084902, 'LeadId': 10459239, 'Name': 'Vinicius','Position': \"Vendedations\", 'Phone':\"5199999999\", \"Email\": \"banana@gmail.com\"}], \n",
    "        'Industry': {'id': 64187, 'value': '[object Object] - undefined'}, 'Origin': {'id': 38182, 'value': 'Anúncio'}, \n",
    "        'Phone': \"5133333566\",\n",
    "        'SubOrigin': {}, 'SDR': {'Name': 'Vinícius', 'LastName': 'Pizzinato', 'Email': 'vinicius.pizzinato@elysia.com.br'}, \n",
    "        'SalesRep': {'Name': 'Réver', 'LastName': 'Martins', 'Email': 'rever@elysia.com.br'}, \n",
    "        'PublicLink': 'https://app.exactspotter.com/public/aWQ9MTA0NTkyMzkmZWNpZD0xMjQ1Nw2', 'MktLink': '', 'Site': '', \n",
    "        'ProductLead': '', 'Address': {'Address_Maps': '', 'PublicPlaceName': '', 'AddAddressInformation': '', 'ZipCode': ''}, \n",
    "        'Stage': 'Agendados', 'SalesQualification': False, 'PainPoints': [], 'Products': [], \n",
    "        'CustomFields': [{'id': '_cnpj', 'value': '16.165.464/5646-45'}, {'id': '_tel', 'value': '515156515151156'}], \n",
    "        'Stages': [{'StageId': 23101, 'Stage': 'Entrada', 'LeadQualification': 'Quente', 'ReviewDate': '2022-12-13T18:20:26.4113242'}, \n",
    "        {'StageId': 23100, 'Stage': 'Filtro 1', 'LeadQualification': 'Muito Quente', 'ReviewDate': '2022-12-13T18:20:43.3361218'}, \n",
    "        {'StageId': 23099, 'Stage': 'Filtro 2', 'LeadQualification': 'Muito Quente', 'ReviewDate': '2022-12-13T18:20:50.5148208'}], \n",
    "        'UserId': 329902, 'CurrentCycle': 1, 'SsnEin': '', 'Empresa': 'Teste Integração Moskit', 'DtCadastro': '2022-12-13T18:19:53.9880059', \n",
    "        'DtAtualizacao': '2022-12-13T18:21:33.6605691', 'Contatos': [{'Id': 11084902, 'LeadId': 10459239, 'Nome': 'Vinicius'}], \n",
    "        'Mercado': {'id': 64187, 'value': '[object Object] - undefined'}, 'Origem': {'id': 38182, 'value': 'Anúncio'}, 'SubOrigem': {}, \n",
    "        'PreVendedor': {'Email': 'vinicius.pizzinato@elysia.com.br', 'Nome': 'Vinícius', 'UltimoNome': 'Pizzinato'}, \n",
    "        'Vendedor': {'Email': 'rever@elysia.com.br', 'Nome': 'Réver', 'UltimoNome': 'Martins'}, \n",
    "        'LinkPublico': 'https://app.exactspotter.com/public/aWQ9MTA0NTkyMzkmZWNpZD0xMjQ1Nw2', 'LinkMkt': '', 'ProdutoLead': '', \n",
    "        'Endereco': {'Endereco_Maps': '', 'Logradouro': '', 'Complemento': '', 'CepZipcode': ''}, 'Etapa': 'Agendados', 'Dores': [], 'Produtos': [], \n",
    "        'CamposPersonalizados': [{'id': '_cnpj', 'value': '16.165.464/5646-45'}], \n",
    "        'Etapas': [{'StageId': 23101, 'Stage': 'Entrada', 'LeadQualification': 'Quente', 'ReviewDate': '2022-12-13T18:20:26.4113242'}, \n",
    "        {'StageId': 23100, 'Stage': 'Filtro 1', 'LeadQualification': 'Muito Quente', 'ReviewDate': '2022-12-13T18:20:43.3361218'}, \n",
    "        {'StageId': 23099, 'Stage': 'Filtro 2', 'LeadQualification': 'Muito Quente', 'ReviewDate': '2022-12-13T18:20:50.5148208'}], \n",
    "        'UsuarioId': 329902, 'CicloAtual': 1, 'CpfCnpj': ''}, 'Agendamento': {'BoxId': 9548163, 'BoxId_anterior': 0, \n",
    "        'Vendedor': {'Email': 'rever@elysia.com.br', 'Nome': 'Réver', 'UltimoNome': 'Martins'}, \n",
    "        'TipoReuniao': 'Conferência web', 'LinkFeedback': 'https://app.exactspotter.com/reuniao/MTMzMzY5OA2', \n",
    "        'DtInicioDateTime': '2022-12-14T11:00:00', 'DtFimDateTime': '2022-12-14T12:00:00', 'TipoReuniaoEnum': 0}}\n",
    "        \n",
    "req = requests.post(\"http://54.159.154.140/integracaoSpotterMoskit\", json=data1)\n",
    "#req = requests.post(\"http://localhost:8080/integracaoSpotterMoskit\", json=data1)\n",
    "print(req.status_code)"
   ]
  },
  {
   "cell_type": "code",
   "execution_count": 20,
   "metadata": {},
   "outputs": [
    {
     "name": "stdout",
     "output_type": "stream",
     "text": [
      "201\n",
      "{'@odata.context': 'http://api-v3.k8s.exactspotter.com/api/v3/$metadata#Edm.Int32', 'value': 19641}\n"
     ]
    }
   ],
   "source": [
    "payLoad = '''{'url': \"http://54.159.154.140/integracaoSpotterMoskit\", 'event': \"event.leadqualified\"}'''\n",
    "\n",
    "req = requests.post(\"https://api.exactspotter.com/v3/webhooksAdd\", headers=head, data=payLoad)\n",
    "print(req.status_code)\n",
    "print(req.json())"
   ]
  },
  {
   "cell_type": "code",
   "execution_count": null,
   "metadata": {},
   "outputs": [],
   "source": [
    "req = requests.delete(\"https://api.exactspotter.com/v3/WebhooksDelete/19507\", headers=head)\n",
    "print(req.status_code)"
   ]
  },
  {
   "cell_type": "code",
   "execution_count": 23,
   "metadata": {},
   "outputs": [
    {
     "name": "stdout",
     "output_type": "stream",
     "text": [
      "{'@odata.context': 'http://api-v3.k8s.exactspotter.com/api/v3/$metadata#Webhooks', 'value': [{'id': 19508, 'event': 'event.schedule', 'url': 'http://54.159.154.140/integracaoSpotterMoskit', 'eventoEnum': None}, {'id': 19509, 'event': 'event.reschedule', 'url': 'http://54.159.154.140/integracaoSpotterMoskit', 'eventoEnum': None}, {'id': 19641, 'event': 'event.leadqualified', 'url': 'http://54.159.154.140/integracaoSpotterMoskit', 'eventoEnum': None}], '@odata.nextLink': 'https://api.exactspotter.com/v3/Webhooks?$skip=500'}\n"
     ]
    }
   ],
   "source": [
    "req = requests.get(\"https://api.exactspotter.com/v3/Webhooks\", headers=head)\n",
    "print(req.json())"
   ]
  },
  {
   "cell_type": "code",
   "execution_count": null,
   "metadata": {},
   "outputs": [],
   "source": [
    "leadId = '10999734'\n",
    "urlFilter = 'https://api.exactspotter.com/v3/QualificationHistories?$filter=leadId eq ' + leadId\n",
    "url = 'https://api.exactspotter.com/v3/QualificationHistories'\n",
    "\n",
    "response = requests.get(urlFilter, headers=head)\n",
    "\n",
    "print(response.status_code)\n",
    "print(response.json())"
   ]
  }
 ],
 "metadata": {
  "kernelspec": {
   "display_name": "envIntegracao",
   "language": "python",
   "name": "python3"
  },
  "language_info": {
   "codemirror_mode": {
    "name": "ipython",
    "version": 3
   },
   "file_extension": ".py",
   "mimetype": "text/x-python",
   "name": "python",
   "nbconvert_exporter": "python",
   "pygments_lexer": "ipython3",
   "version": "3.10.8"
  },
  "orig_nbformat": 4,
  "vscode": {
   "interpreter": {
    "hash": "1b26e2f8e961ab3af3280453c3aba252cf5b0872d5abffcce756b47b945d6198"
   }
  }
 },
 "nbformat": 4,
 "nbformat_minor": 2
}
