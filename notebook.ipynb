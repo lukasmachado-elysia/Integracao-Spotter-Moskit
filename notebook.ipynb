{
 "cells": [
  {
   "cell_type": "code",
   "execution_count": 1,
   "metadata": {},
   "outputs": [],
   "source": [
    "import requests\n",
    "import ast"
   ]
  },
  {
   "cell_type": "code",
   "execution_count": 2,
   "metadata": {},
   "outputs": [
    {
     "name": "stdout",
     "output_type": "stream",
     "text": [
      "<class 'dict'>\n",
      "{'Event': 'event.schedule', 'Appointment': {'BoxId': 9548163, 'PreviousBoxId': 0, 'SalesRep': {'Name': 'Leonardo', 'LastName': 'Nogueira', 'Email': 'leonardo.nogueira@elysia.com.br'}, 'MeetingType': 'Conferência web', 'LinkFeedback': 'https://app.exactspotter.com/reuniao/MTMzMzY5OA2', 'DateTimeStartDate': '2022-12-14T11:00:00', 'DateTimeEndDate': '2022-12-14T12:00:00', 'MeetingTypeEnum': 2}, 'Lead': {'Id': 10459239, 'Company': 'Teste Integração Moskit', 'CreatedAt': '2022-12-13T18:19:53.9880059', 'UpdatedAt': '2022-12-13T18:21:33.6605691', 'Contact': [{'Id': 11084902, 'LeadId': 10459239, 'Name': 'Vinicius'}], 'Industry': {'id': 64187, 'value': '[object Object] - undefined'}, 'Origin': {'id': 38182, 'value': 'Anúncio'}, 'SubOrigin': {}, 'SDR': {'Name': 'Vinícius', 'LastName': 'Pizzinato', 'Email': 'vinicius.pizzinato@elysia.com.br'}, 'SalesRep': {'Name': 'Leonardo', 'LastName': 'Nogueira', 'Email': 'leonardo.nogueira@elysia.com.br'}, 'PublicLink': 'https://app.exactspotter.com/public/aWQ9MTA0NTkyMzkmZWNpZD0xMjQ1Nw2', 'MktLink': '', 'Site': '', 'ProductLead': '', 'Address': {'Address_Maps': '', 'PublicPlaceName': '', 'AddAddressInformation': '', 'ZipCode': ''}, 'Stage': 'Agendados', 'SalesQualification': False, 'PainPoints': [], 'Products': [], 'CustomFields': [{'id': '_cnpj', 'value': '16.165.464/5646-45'}], 'Stages': [{'StageId': 23101, 'Stage': 'Entrada', 'LeadQualification': 'Quente', 'ReviewDate': '2022-12-13T18:20:26.4113242'}, {'StageId': 23100, 'Stage': 'Filtro 1', 'LeadQualification': 'Muito Quente', 'ReviewDate': '2022-12-13T18:20:43.3361218'}, {'StageId': 23099, 'Stage': 'Filtro 2', 'LeadQualification': 'Muito Quente', 'ReviewDate': '2022-12-13T18:20:50.5148208'}], 'UserId': 329902, 'CurrentCycle': 1, 'SsnEin': '', 'Empresa': 'Teste Integração Moskit', 'DtCadastro': '2022-12-13T18:19:53.9880059', 'DtAtualizacao': '2022-12-13T18:21:33.6605691', 'Contatos': [{'Id': 11084902, 'LeadId': 10459239, 'Nome': 'Vinicius'}], 'Mercado': {'id': 64187, 'value': '[object Object] - undefined'}, 'Origem': {'id': 38182, 'value': 'Anúncio'}, 'SubOrigem': {}, 'PreVendedor': {'Email': 'vinicius.pizzinato@elysia.com.br', 'Nome': 'Vinícius', 'UltimoNome': 'Pizzinato'}, 'Vendedor': {'Email': 'leonardo.nogueira@elysia.com.br', 'Nome': 'Leonardo', 'UltimoNome': 'Nogueira'}, 'LinkPublico': 'https://app.exactspotter.com/public/aWQ9MTA0NTkyMzkmZWNpZD0xMjQ1Nw2', 'LinkMkt': '', 'ProdutoLead': '', 'Endereco': {'Endereco_Maps': '', 'Logradouro': '', 'Complemento': '', 'CepZipcode': ''}, 'Etapa': 'Agendados', 'Dores': [], 'Produtos': [], 'CamposPersonalizados': [{'id': '_cnpj', 'value': '16.165.464/5646-45'}], 'Etapas': [{'StageId': 23101, 'Stage': 'Entrada', 'LeadQualification': 'Quente', 'ReviewDate': '2022-12-13T18:20:26.4113242'}, {'StageId': 23100, 'Stage': 'Filtro 1', 'LeadQualification': 'Muito Quente', 'ReviewDate': '2022-12-13T18:20:43.3361218'}, {'StageId': 23099, 'Stage': 'Filtro 2', 'LeadQualification': 'Muito Quente', 'ReviewDate': '2022-12-13T18:20:50.5148208'}], 'UsuarioId': 329902, 'CicloAtual': 1, 'CpfCnpj': ''}, 'Agendamento': {'BoxId': 9548163, 'BoxId_anterior': 0, 'Vendedor': {'Email': 'leonardo.nogueira@elysia.com.br', 'Nome': 'Leonardo', 'UltimoNome': 'Nogueira'}, 'TipoReuniao': 'Conferência web', 'LinkFeedback': 'https://app.exactspotter.com/reuniao/MTMzMzY5OA2', 'DtInicioDateTime': '2022-12-14T11:00:00', 'DtFimDateTime': '2022-12-14T12:00:00', 'TipoReuniaoEnum': 0}}\n"
     ]
    }
   ],
   "source": [
    "# abrindo arquivo que contem os dados do agendamento salvo \n",
    "with open(\"/home/ubuntu/flask_app/dadosAgenda.txt\", \"r\") as file:\n",
    "    s = file.read()\n",
    "file.close()\n",
    "\n",
    "# convertendo string para dicionario\n",
    "agendamento = ast.literal_eval(s)\n",
    "print(type(agendamento))\n",
    "print(agendamento)"
   ]
  },
  {
   "cell_type": "code",
   "execution_count": null,
   "metadata": {},
   "outputs": [],
   "source": [
    "url = \"https://api.moskitcrm.com/v2/users\"\n",
    "\n",
    "headers = {\n",
    "    \"Content-Type\": \"application/json\",\n",
    "    \"apikey\": \"a2c471ed-68d4-4693-916c-7afd42e0d943\"\n",
    "}\n",
    "\n",
    "response = requests.request(\"GET\", url, headers=headers)\n",
    "\n",
    "resposta = response.json()\n",
    "print(resposta)"
   ]
  },
  {
   "cell_type": "code",
   "execution_count": null,
   "metadata": {},
   "outputs": [],
   "source": [
    "payload = {\n",
    "    \"createdBy\": {\"id\": 36079}, # criado por - vendedor\n",
    "    \"responsible\": {\"id\": 36079}, # responsável pelo negocio - vendedor\n",
    "    \"name\": \"Negócio Teste Integração Spotter Moskit\", # nome do negocio - empresa\n",
    "    \"price\": 5000, # valor do negocio\n",
    "    \"status\": \"OPEN\", # negocio aberto\n",
    "    \"stage\": {\"id\": 109019} # visita agendada\n",
    "}\n",
    "header = {\n",
    "    \"Content-Type\": \"application/json\",\n",
    "    \"X-Moskit-Origin\": \"\",\n",
    "    \"apikey\": \"a2c471ed-68d4-4693-916c-7afd42e0d943\"\n",
    "}\n",
    "\n",
    "req = requests.post(url=\"https://api.moskitcrm.com/v2/deals\", headers=header, json=payload)\n",
    "print(req.status_code)\n",
    "print(req.json())"
   ]
  }
 ],
 "metadata": {
  "kernelspec": {
   "display_name": "envIntegracao",
   "language": "python",
   "name": "python3"
  },
  "language_info": {
   "codemirror_mode": {
    "name": "ipython",
    "version": 3
   },
   "file_extension": ".py",
   "mimetype": "text/x-python",
   "name": "python",
   "nbconvert_exporter": "python",
   "pygments_lexer": "ipython3",
   "version": "3.10.8"
  },
  "orig_nbformat": 4,
  "vscode": {
   "interpreter": {
    "hash": "f03e57cd8a08b2ad012e526d9a45e9ef9575b8def341308a7d8daa6b19aa43ea"
   }
  }
 },
 "nbformat": 4,
 "nbformat_minor": 2
}
