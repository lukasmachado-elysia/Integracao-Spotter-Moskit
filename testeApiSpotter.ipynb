{
 "cells": [
  {
   "cell_type": "code",
   "execution_count": 29,
   "metadata": {},
   "outputs": [],
   "source": [
    "import requests\n",
    "import ast\n",
    "import json\n",
    "from datetime import datetime\n",
    "from datetime import timedelta\n",
    "head = {\n",
    "  'Content-Type': 'application/json',\n",
    "  'token_exact': '35a33b30-e84b-4fcb-ae12-4dd98f569be3'}"
   ]
  },
  {
   "cell_type": "code",
   "execution_count": 35,
   "metadata": {},
   "outputs": [
    {
     "data": {
      "text/plain": [
       "{'Id': 10459239,\n",
       " 'Company': 'Teste Integração Moskit',\n",
       " 'CreatedAt': '2022-12-13T18:19:53.9880059',\n",
       " 'UpdatedAt': '2022-12-13T18:21:33.6605691',\n",
       " 'Contact': [{'Id': 11084902, 'LeadId': 10459239, 'Name': 'Vinicius'}],\n",
       " 'Industry': {'id': 64187, 'value': '[object Object] - undefined'},\n",
       " 'Origin': {'id': 38182, 'value': 'Anúncio'},\n",
       " 'SubOrigin': {},\n",
       " 'SDR': {'Name': 'Vinícius',\n",
       "  'LastName': 'Pizzinato',\n",
       "  'Email': 'vinicius.pizzinato@elysia.com.br'},\n",
       " 'SalesRep': {'Name': 'Réver',\n",
       "  'LastName': 'Martins',\n",
       "  'Email': 'rever@elysia.com.br'},\n",
       " 'PublicLink': 'https://app.exactspotter.com/public/aWQ9MTA0NTkyMzkmZWNpZD0xMjQ1Nw2',\n",
       " 'MktLink': '',\n",
       " 'Site': '',\n",
       " 'ProductLead': '',\n",
       " 'Address': {'Address_Maps': '',\n",
       "  'PublicPlaceName': '',\n",
       "  'AddAddressInformation': '',\n",
       "  'ZipCode': ''},\n",
       " 'Stage': 'Agendados',\n",
       " 'SalesQualification': False,\n",
       " 'PainPoints': [],\n",
       " 'Products': [],\n",
       " 'CustomFields': [{'id': '_cnpj', 'value': '16.165.464/5646-45'}],\n",
       " 'Stages': [{'StageId': 23101,\n",
       "   'Stage': 'Entrada',\n",
       "   'LeadQualification': 'Quente',\n",
       "   'ReviewDate': '2022-12-13T18:20:26.4113242'},\n",
       "  {'StageId': 23100,\n",
       "   'Stage': 'Filtro 1',\n",
       "   'LeadQualification': 'Muito Quente',\n",
       "   'ReviewDate': '2022-12-13T18:20:43.3361218'},\n",
       "  {'StageId': 23099,\n",
       "   'Stage': 'Filtro 2',\n",
       "   'LeadQualification': 'Muito Quente',\n",
       "   'ReviewDate': '2022-12-13T18:20:50.5148208'}],\n",
       " 'UserId': 329902,\n",
       " 'CurrentCycle': 1,\n",
       " 'SsnEin': '',\n",
       " 'Empresa': 'Teste Integração Moskit',\n",
       " 'DtCadastro': '2022-12-13T18:19:53.9880059',\n",
       " 'DtAtualizacao': '2022-12-13T18:21:33.6605691',\n",
       " 'Contatos': [{'Id': 11084902, 'LeadId': 10459239, 'Nome': 'Vinicius'}],\n",
       " 'Mercado': {'id': 64187, 'value': '[object Object] - undefined'},\n",
       " 'Origem': {'id': 38182, 'value': 'Anúncio'},\n",
       " 'SubOrigem': {},\n",
       " 'PreVendedor': {'Email': 'vinicius.pizzinato@elysia.com.br',\n",
       "  'Nome': 'Vinícius',\n",
       "  'UltimoNome': 'Pizzinato'},\n",
       " 'Vendedor': {'Email': 'rever@elysia.com.br',\n",
       "  'Nome': 'Réver',\n",
       "  'UltimoNome': 'Martins'},\n",
       " 'LinkPublico': 'https://app.exactspotter.com/public/aWQ9MTA0NTkyMzkmZWNpZD0xMjQ1Nw2',\n",
       " 'LinkMkt': '',\n",
       " 'ProdutoLead': '',\n",
       " 'Endereco': {'Endereco_Maps': '',\n",
       "  'Logradouro': '',\n",
       "  'Complemento': '',\n",
       "  'CepZipcode': ''},\n",
       " 'Etapa': 'Agendados',\n",
       " 'Dores': [],\n",
       " 'Produtos': [],\n",
       " 'CamposPersonalizados': [{'id': '_cnpj', 'value': '16.165.464/5646-45'}],\n",
       " 'Etapas': [{'StageId': 23101,\n",
       "   'Stage': 'Entrada',\n",
       "   'LeadQualification': 'Quente',\n",
       "   'ReviewDate': '2022-12-13T18:20:26.4113242'},\n",
       "  {'StageId': 23100,\n",
       "   'Stage': 'Filtro 1',\n",
       "   'LeadQualification': 'Muito Quente',\n",
       "   'ReviewDate': '2022-12-13T18:20:43.3361218'},\n",
       "  {'StageId': 23099,\n",
       "   'Stage': 'Filtro 2',\n",
       "   'LeadQualification': 'Muito Quente',\n",
       "   'ReviewDate': '2022-12-13T18:20:50.5148208'}],\n",
       " 'UsuarioId': 329902,\n",
       " 'CicloAtual': 1,\n",
       " 'CpfCnpj': ''}"
      ]
     },
     "execution_count": 35,
     "metadata": {},
     "output_type": "execute_result"
    }
   ],
   "source": [
    "data = {'Event': 'event.schedule', 'Appointment': {'BoxId': 9548163, 'PreviousBoxId': 0, \n",
    "        'SalesRep': {'Name': 'Réver', 'LastName': 'Martins', 'Email': 'rever@elysia.com.br'}, \n",
    "        'MeetingType': 'Conferência web', 'LinkFeedback': 'https://app.exactspotter.com/reuniao/MTMzMzY5OA2', \n",
    "        'DateTimeStartDate': '2022-12-14T11:00:00', 'DateTimeEndDate': '2022-12-14T12:00:00', 'MeetingTypeEnum': 2},\n",
    "        'Lead': {'Id': 10459239, 'Company': 'Teste Integração Moskit', 'CreatedAt': '2022-12-13T18:19:53.9880059', \n",
    "        'UpdatedAt': '2022-12-13T18:21:33.6605691', 'Contact': [{'Id': 11084902, 'LeadId': 10459239, 'Name': 'Vinicius'}], \n",
    "        'Industry': {'id': 64187, 'value': '[object Object] - undefined'}, 'Origin': {'id': 38182, 'value': 'Anúncio'}, \n",
    "        'SubOrigin': {}, 'SDR': {'Name': 'Vinícius', 'LastName': 'Pizzinato', 'Email': 'vinicius.pizzinato@elysia.com.br'}, \n",
    "        'SalesRep': {'Name': 'Réver', 'LastName': 'Martins', 'Email': 'rever@elysia.com.br'}, \n",
    "        'PublicLink': 'https://app.exactspotter.com/public/aWQ9MTA0NTkyMzkmZWNpZD0xMjQ1Nw2', 'MktLink': '', 'Site': '', \n",
    "        'ProductLead': '', 'Address': {'Address_Maps': '', 'PublicPlaceName': '', 'AddAddressInformation': '', 'ZipCode': ''}, \n",
    "        'Stage': 'Agendados', 'SalesQualification': False, 'PainPoints': [], 'Products': [], \n",
    "        'CustomFields': [{'id': '_cnpj', 'value': '16.165.464/5646-45'}], \n",
    "        'Stages': [{'StageId': 23101, 'Stage': 'Entrada', 'LeadQualification': 'Quente', 'ReviewDate': '2022-12-13T18:20:26.4113242'}, \n",
    "        {'StageId': 23100, 'Stage': 'Filtro 1', 'LeadQualification': 'Muito Quente', 'ReviewDate': '2022-12-13T18:20:43.3361218'}, \n",
    "        {'StageId': 23099, 'Stage': 'Filtro 2', 'LeadQualification': 'Muito Quente', 'ReviewDate': '2022-12-13T18:20:50.5148208'}], \n",
    "        'UserId': 329902, 'CurrentCycle': 1, 'SsnEin': '', 'Empresa': 'Teste Integração Moskit', 'DtCadastro': '2022-12-13T18:19:53.9880059', \n",
    "        'DtAtualizacao': '2022-12-13T18:21:33.6605691', 'Contatos': [{'Id': 11084902, 'LeadId': 10459239, 'Nome': 'Vinicius'}], \n",
    "        'Mercado': {'id': 64187, 'value': '[object Object] - undefined'}, 'Origem': {'id': 38182, 'value': 'Anúncio'}, 'SubOrigem': {}, \n",
    "        'PreVendedor': {'Email': 'vinicius.pizzinato@elysia.com.br', 'Nome': 'Vinícius', 'UltimoNome': 'Pizzinato'}, \n",
    "        'Vendedor': {'Email': 'rever@elysia.com.br', 'Nome': 'Réver', 'UltimoNome': 'Martins'}, \n",
    "        'LinkPublico': 'https://app.exactspotter.com/public/aWQ9MTA0NTkyMzkmZWNpZD0xMjQ1Nw2', 'LinkMkt': '', 'ProdutoLead': '', \n",
    "        'Endereco': {'Endereco_Maps': '', 'Logradouro': '', 'Complemento': '', 'CepZipcode': ''}, 'Etapa': 'Agendados', 'Dores': [], 'Produtos': [], \n",
    "        'CamposPersonalizados': [{'id': '_cnpj', 'value': '16.165.464/5646-45'}], \n",
    "        'Etapas': [{'StageId': 23101, 'Stage': 'Entrada', 'LeadQualification': 'Quente', 'ReviewDate': '2022-12-13T18:20:26.4113242'}, \n",
    "        {'StageId': 23100, 'Stage': 'Filtro 1', 'LeadQualification': 'Muito Quente', 'ReviewDate': '2022-12-13T18:20:43.3361218'}, \n",
    "        {'StageId': 23099, 'Stage': 'Filtro 2', 'LeadQualification': 'Muito Quente', 'ReviewDate': '2022-12-13T18:20:50.5148208'}], \n",
    "        'UsuarioId': 329902, 'CicloAtual': 1, 'CpfCnpj': ''}, 'Agendamento': {'BoxId': 9548163, 'BoxId_anterior': 0, \n",
    "        'Vendedor': {'Email': 'rever@elysia.com.br', 'Nome': 'Réver', 'UltimoNome': 'Martins'}, \n",
    "        'TipoReuniao': 'Conferência web', 'LinkFeedback': 'https://app.exactspotter.com/reuniao/MTMzMzY5OA2', \n",
    "        'DtInicioDateTime': '2022-12-14T11:00:00', 'DtFimDateTime': '2022-12-14T12:00:00', 'TipoReuniaoEnum': 0}}\n",
    "\n",
    "req = requests.post(\"http://54.159.154.140/integracaoSpotterMoskit\", json={'id': 123})\n",
    "data['Lead']"
   ]
  },
  {
   "cell_type": "code",
   "execution_count": 24,
   "metadata": {},
   "outputs": [
    {
     "name": "stdout",
     "output_type": "stream",
     "text": [
      "201\n",
      "{'@odata.context': 'http://api-v3.k8s.exactspotter.com/api/v3/$metadata#Edm.Int32', 'value': 19509}\n"
     ]
    }
   ],
   "source": [
    "payLoad = '''{'url': \"http://54.159.154.140/integracaoSpotterMoskit\", 'event': \"event.reschedule\"}'''\n",
    "\n",
    "req = requests.post(\"https://api.exactspotter.com/v3/webhooksAdd\", headers=head, data=payLoad)\n",
    "print(req.status_code)\n",
    "print(req.json())"
   ]
  },
  {
   "cell_type": "code",
   "execution_count": null,
   "metadata": {},
   "outputs": [],
   "source": [
    "req = requests.delete(\"https://api.exactspotter.com/v3/WebhooksDelete/19507\", headers=head)\n",
    "print(req.status_code)"
   ]
  },
  {
   "cell_type": "code",
   "execution_count": 25,
   "metadata": {},
   "outputs": [
    {
     "name": "stdout",
     "output_type": "stream",
     "text": [
      "200\n",
      "{'@odata.context': 'http://api-v3.k8s.exactspotter.com/api/v3/$metadata#Webhooks', 'value': [{'id': 19508, 'event': 'event.schedule', 'url': 'http://54.159.154.140/integracaoSpotterMoskit', 'eventoEnum': None}, {'id': 19509, 'event': 'event.reschedule', 'url': 'http://54.159.154.140/integracaoSpotterMoskit', 'eventoEnum': None}], '@odata.nextLink': 'https://api.exactspotter.com/v3/Webhooks?$skip=500'}\n"
     ]
    }
   ],
   "source": [
    "req = requests.get(\"https://api.exactspotter.com/v3/Webhooks\", headers=head)\n",
    "print(req.status_code)\n",
    "print(req.json())"
   ]
  },
  {
   "cell_type": "code",
   "execution_count": null,
   "metadata": {},
   "outputs": [],
   "source": [
    "with open(\"../dadosAgenda.txt\",'r') as file:\n",
    "    arq = str(file.read()).replace('\\n','')\n",
    "dictAgenda = ast.literal_eval(arq)\n",
    "print(type(dictAgenda))\n",
    "print(dictAgenda)"
   ]
  },
  {
   "attachments": {},
   "cell_type": "markdown",
   "metadata": {},
   "source": [
    "## Buscando questionario do lead"
   ]
  },
  {
   "cell_type": "code",
   "execution_count": 6,
   "metadata": {},
   "outputs": [
    {
     "name": "stdout",
     "output_type": "stream",
     "text": [
      "200\n",
      "{'@odata.context': 'http://api-v3.k8s.exactspotter.com/api/v3/$metadata#QualificationHistories', 'value': [{'leadId': 10999734, 'stageId': 23100, 'stage': 'Filtro 1', 'score': 'Quente', 'qualificationDate': '2023-01-05T18:05:11.9358672Z', 'questionAnswers': [{'question': 'Qual a localização da empresa?', 'questionId': 209671, 'answers': [{'id': 49835612, 'text': 'Porto Alegre e região'}]}, {'question': 'Qual o segmento da empresa?', 'questionId': 209672, 'answers': [{'id': 49835613, 'text': ' Supermercado'}]}, {'question': 'O imóvel possui área disponível para instalação?', 'questionId': 209673, 'answers': [{'id': 49835614, 'text': 'Sim'}]}, {'question': 'Encontrou algum decisor?', 'questionId': 209674, 'answers': [{'id': 49835615, 'text': 'Sim'}]}, {'question': 'Nome, Cargo, E-mail, Contato.', 'questionId': 209675, 'answers': [{'id': 4655430, 'text': '.'}]}], 'userAction': {'id': 329902, 'name': 'Vinícius', 'lastName': 'Pizzinato', 'email': 'vinicius.pizzinato@elysia.com.br'}}, {'leadId': 10999734, 'stageId': 23099, 'stage': 'Filtro 2', 'score': 'Muito Quente', 'qualificationDate': '2023-01-05T18:05:33.5249321Z', 'questionAnswers': [{'question': 'Conhece como funciona a geração de energia solar para empresas?', 'questionId': 209677, 'answers': [{'id': 49835634, 'text': 'Sim, já pesquisei sobre o assunto'}]}, {'question': 'Já chegou a fazer orçamentos para instalação?', 'questionId': 209678, 'answers': [{'id': 49835636, 'text': 'Sim, estou fazendo orçamento'}]}, {'question': 'Você é o único responsável pela tomada de decisão?', 'questionId': 209679, 'answers': [{'id': 49835638, 'text': 'Sim, sou'}]}, {'question': 'Já recebeu visitas técnicas para analisar a viabilidade de instalação?', 'questionId': 209680, 'answers': [{'id': 49835635, 'text': 'Sim, estou decidindo'}]}, {'question': 'Quando está pensando e começar o projeto de instalação?', 'questionId': 209686, 'answers': [{'id': 49835642, 'text': 'Imediatamente'}]}, {'question': 'Quanto gasta de conta de luz?', 'questionId': 209687, 'answers': [{'id': 49835639, 'text': 'de R$3.000 a 5.000'}]}, {'question': 'O imóvel atual é próprio ou alugado?', 'questionId': 209688, 'answers': [{'id': 49835641, 'text': 'Próprio com espaço'}]}, {'question': 'O que falta para você fechar o projeto fotovoltaico?', 'questionId': 209696, 'answers': [{'id': 49835637, 'text': 'O investimento era muito alto'}]}, {'question': 'Eu verifiquei na internet que vocês têm um espaço bem amplo, você saberia me dizer se tem espaço para instalação de placa solares?', 'questionId': 209697, 'answers': [{'id': 49835640, 'text': 'Sim, tenho um bom espaço'}]}], 'userAction': {'id': 329902, 'name': 'Vinícius', 'lastName': 'Pizzinato', 'email': 'vinicius.pizzinato@elysia.com.br'}}, {'leadId': 10999734, 'stageId': 23098, 'stage': 'Filtro 3', 'score': 'Muito Quente', 'qualificationDate': '2023-01-05T18:05:43.1153768Z', 'questionAnswers': [{'question': 'Orçamento Enviado', 'questionId': 209676, 'answers': [{'id': 49835660, 'text': 'Sim'}]}], 'userAction': {'id': 329902, 'name': 'Vinícius', 'lastName': 'Pizzinato', 'email': 'vinicius.pizzinato@elysia.com.br'}}], '@odata.nextLink': 'https://api.exactspotter.com/v3/QualificationHistories?$filter=leadId%20eq%2010999734&$skip=500'}\n"
     ]
    }
   ],
   "source": [
    "leadId = '10999734'\n",
    "urlFilter = 'https://api.exactspotter.com/v3/QualificationHistories?$filter=leadId eq ' + leadId\n",
    "url = 'https://api.exactspotter.com/v3/QualificationHistories'\n",
    "\n",
    "response = requests.get(urlFilter, headers=head)\n",
    "\n",
    "print(response.status_code)\n",
    "print(response.json())"
   ]
  },
  {
   "cell_type": "code",
   "execution_count": 9,
   "metadata": {},
   "outputs": [
    {
     "name": "stdout",
     "output_type": "stream",
     "text": [
      "Size response: 3\n",
      "# Estágio Lead: Filtro 1 #\n",
      "# Score: Quente #\n",
      "Qual a localização da empresa? -> Porto Alegre e região\n",
      "Qual o segmento da empresa? ->  Supermercado\n",
      "O imóvel possui área disponível para instalação? -> Sim\n",
      "Encontrou algum decisor? -> Sim\n",
      "Nome, Cargo, E-mail, Contato. -> .\n",
      "\n",
      "# Estágio Lead: Filtro 2 #\n",
      "# Score: Muito Quente #\n",
      "Conhece como funciona a geração de energia solar para empresas? -> Sim, já pesquisei sobre o assunto\n",
      "Já chegou a fazer orçamentos para instalação? -> Sim, estou fazendo orçamento\n",
      "Você é o único responsável pela tomada de decisão? -> Sim, sou\n",
      "Já recebeu visitas técnicas para analisar a viabilidade de instalação? -> Sim, estou decidindo\n",
      "Quando está pensando e começar o projeto de instalação? -> Imediatamente\n",
      "Quanto gasta de conta de luz? -> de R$3.000 a 5.000\n",
      "O imóvel atual é próprio ou alugado? -> Próprio com espaço\n",
      "O que falta para você fechar o projeto fotovoltaico? -> O investimento era muito alto\n",
      "Eu verifiquei na internet que vocês têm um espaço bem amplo, você saberia me dizer se tem espaço para instalação de placa solares? -> Sim, tenho um bom espaço\n",
      "\n",
      "# Estágio Lead: Filtro 3 #\n",
      "# Score: Muito Quente #\n",
      "Orçamento Enviado -> Sim\n",
      "\n",
      "\n"
     ]
    }
   ],
   "source": [
    "if response.status_code == 200:\n",
    "    stages = response.json()['value'] # Retorno completo\n",
    "    qa = \"\"\n",
    "    print(\"Size response: {}\".format(len(stages)))\n",
    "    # Percorrer resposta e printar QA\n",
    "    for stage in stages: # Percorre estagios do lead - filtro 1, 2, 3, Qualificados...\n",
    "        qa += \"# Estágio Lead: {0} #\\n# Score: {1} #\\n\".format(stage['stage'], stage['score'])\n",
    "        for question in stage['questionAnswers']: # Percorre perguntas\n",
    "            for answer in question['answers']: # Percorre respostas\n",
    "                qa += \"{0} -> {1}\\n\".format(question['question'], answer['text'])\n",
    "        qa += \"\\n\"\n",
    "print(qa)"
   ]
  }
 ],
 "metadata": {
  "kernelspec": {
   "display_name": "envIntegracao",
   "language": "python",
   "name": "python3"
  },
  "language_info": {
   "codemirror_mode": {
    "name": "ipython",
    "version": 3
   },
   "file_extension": ".py",
   "mimetype": "text/x-python",
   "name": "python",
   "nbconvert_exporter": "python",
   "pygments_lexer": "ipython3",
   "version": "3.10.8"
  },
  "orig_nbformat": 4,
  "vscode": {
   "interpreter": {
    "hash": "1b26e2f8e961ab3af3280453c3aba252cf5b0872d5abffcce756b47b945d6198"
   }
  }
 },
 "nbformat": 4,
 "nbformat_minor": 2
}
