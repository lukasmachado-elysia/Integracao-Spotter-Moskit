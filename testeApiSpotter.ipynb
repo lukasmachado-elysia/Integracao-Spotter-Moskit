{
 "cells": [
  {
   "cell_type": "code",
   "execution_count": 29,
   "metadata": {},
   "outputs": [],
   "source": [
    "import requests\n",
    "import ast\n",
    "import json\n",
    "\n",
    "head = {\n",
    "  'Content-Type': 'application/json',\n",
    "  'token_exact': '35a33b30-e84b-4fcb-ae12-4dd98f569be3'\n",
    "}"
   ]
  },
  {
   "cell_type": "code",
   "execution_count": 26,
   "metadata": {},
   "outputs": [
    {
     "data": {
      "text/plain": [
       "<Response [200]>"
      ]
     },
     "execution_count": 26,
     "metadata": {},
     "output_type": "execute_result"
    }
   ],
   "source": [
    "data = {'Event': 'event.schedule', 'Appointment': {'BoxId': 9548163, 'PreviousBoxId': 0, \n",
    "        'SalesRep': {'Name': 'Réver', 'LastName': 'Martins', 'Email': 'rever@elysia.com.br'}, \n",
    "        'MeetingType': 'Conferência web', 'LinkFeedback': 'https://app.exactspotter.com/reuniao/MTMzMzY5OA2', \n",
    "        'DateTimeStartDate': '2022-12-14T11:00:00', 'DateTimeEndDate': '2022-12-14T12:00:00', 'MeetingTypeEnum': 2},\n",
    "        'Lead': {'Id': 10459239, 'Company': 'Teste Integração Moskit', 'CreatedAt': '2022-12-13T18:19:53.9880059', \n",
    "        'UpdatedAt': '2022-12-13T18:21:33.6605691', 'Contact': [{'Id': 11084902, 'LeadId': 10459239, 'Name': 'Vinicius'}], \n",
    "        'Industry': {'id': 64187, 'value': '[object Object] - undefined'}, 'Origin': {'id': 38182, 'value': 'Anúncio'}, \n",
    "        'SubOrigin': {}, 'SDR': {'Name': 'Vinícius', 'LastName': 'Pizzinato', 'Email': 'vinicius.pizzinato@elysia.com.br'}, \n",
    "        'SalesRep': {'Name': 'Réver', 'LastName': 'Martins', 'Email': 'rever@elysia.com.br'}, \n",
    "        'PublicLink': 'https://app.exactspotter.com/public/aWQ9MTA0NTkyMzkmZWNpZD0xMjQ1Nw2', 'MktLink': '', 'Site': '', \n",
    "        'ProductLead': '', 'Address': {'Address_Maps': '', 'PublicPlaceName': '', 'AddAddressInformation': '', 'ZipCode': ''}, \n",
    "        'Stage': 'Agendados', 'SalesQualification': False, 'PainPoints': [], 'Products': [], \n",
    "        'CustomFields': [{'id': '_cnpj', 'value': '16.165.464/5646-45'}], \n",
    "        'Stages': [{'StageId': 23101, 'Stage': 'Entrada', 'LeadQualification': 'Quente', 'ReviewDate': '2022-12-13T18:20:26.4113242'}, \n",
    "        {'StageId': 23100, 'Stage': 'Filtro 1', 'LeadQualification': 'Muito Quente', 'ReviewDate': '2022-12-13T18:20:43.3361218'}, \n",
    "        {'StageId': 23099, 'Stage': 'Filtro 2', 'LeadQualification': 'Muito Quente', 'ReviewDate': '2022-12-13T18:20:50.5148208'}], \n",
    "        'UserId': 329902, 'CurrentCycle': 1, 'SsnEin': '', 'Empresa': 'Teste Integração Moskit', 'DtCadastro': '2022-12-13T18:19:53.9880059', \n",
    "        'DtAtualizacao': '2022-12-13T18:21:33.6605691', 'Contatos': [{'Id': 11084902, 'LeadId': 10459239, 'Nome': 'Vinicius'}], \n",
    "        'Mercado': {'id': 64187, 'value': '[object Object] - undefined'}, 'Origem': {'id': 38182, 'value': 'Anúncio'}, 'SubOrigem': {}, \n",
    "        'PreVendedor': {'Email': 'vinicius.pizzinato@elysia.com.br', 'Nome': 'Vinícius', 'UltimoNome': 'Pizzinato'}, \n",
    "        'Vendedor': {'Email': 'rever@elysia.com.br', 'Nome': 'Réver', 'UltimoNome': 'Martins'}, \n",
    "        'LinkPublico': 'https://app.exactspotter.com/public/aWQ9MTA0NTkyMzkmZWNpZD0xMjQ1Nw2', 'LinkMkt': '', 'ProdutoLead': '', \n",
    "        'Endereco': {'Endereco_Maps': '', 'Logradouro': '', 'Complemento': '', 'CepZipcode': ''}, 'Etapa': 'Agendados', 'Dores': [], 'Produtos': [], \n",
    "        'CamposPersonalizados': [{'id': '_cnpj', 'value': '16.165.464/5646-45'}], \n",
    "        'Etapas': [{'StageId': 23101, 'Stage': 'Entrada', 'LeadQualification': 'Quente', 'ReviewDate': '2022-12-13T18:20:26.4113242'}, \n",
    "        {'StageId': 23100, 'Stage': 'Filtro 1', 'LeadQualification': 'Muito Quente', 'ReviewDate': '2022-12-13T18:20:43.3361218'}, \n",
    "        {'StageId': 23099, 'Stage': 'Filtro 2', 'LeadQualification': 'Muito Quente', 'ReviewDate': '2022-12-13T18:20:50.5148208'}], \n",
    "        'UsuarioId': 329902, 'CicloAtual': 1, 'CpfCnpj': ''}, 'Agendamento': {'BoxId': 9548163, 'BoxId_anterior': 0, \n",
    "        'Vendedor': {'Email': 'rever@elysia.com.br', 'Nome': 'Réver', 'UltimoNome': 'Martins'}, \n",
    "        'TipoReuniao': 'Conferência web', 'LinkFeedback': 'https://app.exactspotter.com/reuniao/MTMzMzY5OA2', \n",
    "        'DtInicioDateTime': '2022-12-14T11:00:00', 'DtFimDateTime': '2022-12-14T12:00:00', 'TipoReuniaoEnum': 0}}\n",
    "\n",
    "requests.post(\"http://localhost:8080/integracaoSpotterMoskit\", json=data)\n",
    "#requests.get(\"http://localhost:8080/integracaoSpotterMoskit)"
   ]
  },
  {
   "cell_type": "code",
   "execution_count": null,
   "metadata": {},
   "outputs": [],
   "source": [
    "with open(\"../dadosAgenda.txt\",'r') as file:\n",
    "    arq = str(file.read()).replace('\\n','')\n",
    "dictAgenda = ast.literal_eval(arq)\n",
    "print(type(dictAgenda))\n",
    "print(dictAgenda)"
   ]
  },
  {
   "attachments": {},
   "cell_type": "markdown",
   "metadata": {},
   "source": [
    "## Buscando questionario do lead"
   ]
  },
  {
   "cell_type": "code",
   "execution_count": 31,
   "metadata": {},
   "outputs": [
    {
     "name": "stdout",
     "output_type": "stream",
     "text": [
      "200\n",
      "{'@odata.context': 'http://api-v3.k8s.exactspotter.com/api/v3/$metadata#QualificationHistories', 'value': [{'leadId': 7870889, 'stageId': 23100, 'stage': 'Filtro 1', 'score': 'Quente', 'qualificationDate': '2022-01-06T19:02:56.5680722Z', 'questionAnswers': [{'question': 'Qual a localização da empresa?', 'questionId': 209671, 'answers': [{'id': 40353344, 'text': 'Porto Alegre e região'}]}, {'question': 'Qual o segmento da empresa?', 'questionId': 209672, 'answers': [{'id': 40359644, 'text': 'Indústrias'}]}, {'question': 'O imóvel possui área disponível para instalação?', 'questionId': 209673, 'answers': [{'id': 40365945, 'text': 'Sim'}]}, {'question': 'Encontrou algum decisor?', 'questionId': 209674, 'answers': [{'id': 40372245, 'text': 'Sim'}]}, {'question': 'Nome, Cargo, E-mail, Contato.', 'questionId': 209675, 'answers': [{'id': 3515784, 'text': 'Janete\\r\\nSupervisora\\r\\njanete.lorenz@sh.com.br\\r\\n(51) 9987-62769'}]}], 'userAction': {'id': None, 'name': None, 'lastName': None, 'email': None}}, {'leadId': 7870889, 'stageId': 23099, 'stage': 'Filtro 2', 'score': 'Quente', 'qualificationDate': '2022-01-27T18:26:12.4644254Z', 'questionAnswers': [{'question': 'Conhece como funciona a geração de energia solar para empresas?', 'questionId': 209677, 'answers': [{'id': 40374476, 'text': 'Sim, já pesquisei sobre o assunto'}]}, {'question': 'Já chegou a fazer orçamentos para instalação?', 'questionId': 209678, 'answers': [{'id': 40375654, 'text': 'Não'}]}, {'question': 'Você é o único responsável pela tomada de decisão?', 'questionId': 209679, 'answers': [{'id': 40376832, 'text': 'Não, é um conselho administrativo ou similar'}]}, {'question': 'Quanto gasta de conta de luz?', 'questionId': 209682, 'answers': [{'id': 40378212, 'text': 'de R$10.000 a R$20.000'}]}, {'question': 'Acredita ser interessante ter uma economia de até 95% nos gastos de conta de luz?', 'questionId': 209683, 'answers': [{'id': 40378537, 'text': 'Sim, é muito interessante'}]}, {'question': 'E se você pudesse direcionar esses custos com energia para outros investimentos?', 'questionId': 209684, 'answers': [{'id': 40378860, 'text': 'Sim, seria muito bom'}]}, {'question': 'O imóvel atual é próprio ou alugado?', 'questionId': 209685, 'answers': [{'id': 40379185, 'text': 'Alugado, com possibilidade de utilizar'}]}, {'question': 'Sabia que é possível trocar a sua conta de luz pela parcela do financiamento?', 'questionId': 209695, 'answers': [{'id': 40382830, 'text': 'Sim, tenho interesse'}]}, {'question': 'Eu verifiquei na internet que vocês têm um espaço bem amplo, você saberia me dizer se tem espaço para instalação de placa solares?', 'questionId': 209698, 'answers': [{'id': 40383981, 'text': 'Sim, tenho um bom espaço'}]}], 'userAction': {'id': None, 'name': None, 'lastName': None, 'email': None}}, {'leadId': 7870889, 'stageId': 23098, 'stage': 'Filtro 3', 'score': 'Muito Quente', 'qualificationDate': '2022-01-27T18:28:44.168509Z', 'questionAnswers': [{'question': 'Orçamento Enviado', 'questionId': 209676, 'answers': [{'id': 40387867, 'text': 'Não'}]}], 'userAction': {'id': None, 'name': None, 'lastName': None, 'email': None}}, {'leadId': 7870889, 'stageId': 23096, 'stage': 'Qualificados', 'score': 'Morna', 'qualificationDate': '2022-01-28T19:04:15.3304486Z', 'questionAnswers': [{'question': 'Quem participou da reunião?', 'questionId': 209666, 'answers': [{'id': 40385024, 'text': 'Influenciador indireto'}]}, {'question': 'Qual o grau de interesse demonstrado?', 'questionId': 209667, 'answers': [{'id': 40385557, 'text': 'Interessado'}]}, {'question': 'Poder financeiro da empresa? ', 'questionId': 209668, 'answers': [{'id': 40386090, 'text': 'Sem informação'}]}, {'question': 'Em quanto tempo você acredita que pode vender?', 'questionId': 209669, 'answers': [{'id': 40386623, 'text': 'Não sei'}]}, {'question': 'Tem viabilidade de instalação?', 'questionId': 209693, 'answers': [{'id': 40387155, 'text': 'Sim'}]}, {'question': 'Conseguiu conta de luz?', 'questionId': 209699, 'answers': [{'id': 40384491, 'text': 'Sim, previamente'}]}], 'userAction': {'id': None, 'name': None, 'lastName': None, 'email': None}}], '@odata.nextLink': 'https://api.exactspotter.com/v3/QualificationHistories?$filter=leadId%20eq%207870889&$skip=500'}\n"
     ]
    }
   ],
   "source": [
    "leadId = '7870889'\n",
    "urlFilter = 'https://api.exactspotter.com/v3/QualificationHistories?$filter=leadId eq ' + leadId\n",
    "url = 'https://api.exactspotter.com/v3/QualificationHistories'\n",
    "\n",
    "response = requests.get(urlFilter, headers=head)\n",
    "\n",
    "print(response.status_code)\n",
    "print(response.json())"
   ]
  },
  {
   "cell_type": "code",
   "execution_count": 64,
   "metadata": {},
   "outputs": [
    {
     "name": "stdout",
     "output_type": "stream",
     "text": [
      "Size response: 4\n",
      "# Estágio Lead: Filtro 1 #\n",
      "# Score: Quente #\n",
      "Qual a localização da empresa? -> Porto Alegre e região\n",
      "Qual o segmento da empresa? -> Indústrias\n",
      "O imóvel possui área disponível para instalação? -> Sim\n",
      "Encontrou algum decisor? -> Sim\n",
      "Nome, Cargo, E-mail, Contato. -> Janete\n",
      "Supervisora\n",
      "janete.lorenz@sh.com.br\n",
      "(51) 9987-62769\n",
      "\n",
      "# Estágio Lead: Filtro 2 #\n",
      "# Score: Quente #\n",
      "Conhece como funciona a geração de energia solar para empresas? -> Sim, já pesquisei sobre o assunto\n",
      "Já chegou a fazer orçamentos para instalação? -> Não\n",
      "Você é o único responsável pela tomada de decisão? -> Não, é um conselho administrativo ou similar\n",
      "Quanto gasta de conta de luz? -> de R$10.000 a R$20.000\n",
      "Acredita ser interessante ter uma economia de até 95% nos gastos de conta de luz? -> Sim, é muito interessante\n",
      "E se você pudesse direcionar esses custos com energia para outros investimentos? -> Sim, seria muito bom\n",
      "O imóvel atual é próprio ou alugado? -> Alugado, com possibilidade de utilizar\n",
      "Sabia que é possível trocar a sua conta de luz pela parcela do financiamento? -> Sim, tenho interesse\n",
      "Eu verifiquei na internet que vocês têm um espaço bem amplo, você saberia me dizer se tem espaço para instalação de placa solares? -> Sim, tenho um bom espaço\n",
      "\n",
      "# Estágio Lead: Filtro 3 #\n",
      "# Score: Muito Quente #\n",
      "Orçamento Enviado -> Não\n",
      "\n",
      "# Estágio Lead: Qualificados #\n",
      "# Score: Morna #\n",
      "Quem participou da reunião? -> Influenciador indireto\n",
      "Qual o grau de interesse demonstrado? -> Interessado\n",
      "Poder financeiro da empresa?  -> Sem informação\n",
      "Em quanto tempo você acredita que pode vender? -> Não sei\n",
      "Tem viabilidade de instalação? -> Sim\n",
      "Conseguiu conta de luz? -> Sim, previamente\n",
      "\n",
      "\n"
     ]
    }
   ],
   "source": [
    "if response.status_code == 200:\n",
    "    stages = response.json()['value'] # Retorno completo\n",
    "    qa = \"\"\n",
    "    print(\"Size response: {}\".format(len(stages)))\n",
    "    # Percorrer resposta e printar QA\n",
    "    for stage in stages: # Percorre estagios do lead - filtro 1, 2, 3, Qualificados...\n",
    "        qa += \"# Estágio Lead: {0} #\\n# Score: {1} #\\n\".format(stage['stage'], stage['score'])\n",
    "        for question in stage['questionAnswers']: # Percorre perguntas\n",
    "            for answer in question['answers']: # Percorre respostas\n",
    "                qa += \"{0} -> {1}\\n\".format(question['question'], answer['text'])\n",
    "        qa += \"\\n\"\n",
    "print(qa)"
   ]
  }
 ],
 "metadata": {
  "kernelspec": {
   "display_name": "envIntegracao",
   "language": "python",
   "name": "python3"
  },
  "language_info": {
   "codemirror_mode": {
    "name": "ipython",
    "version": 3
   },
   "file_extension": ".py",
   "mimetype": "text/x-python",
   "name": "python",
   "nbconvert_exporter": "python",
   "pygments_lexer": "ipython3",
   "version": "3.10.8"
  },
  "orig_nbformat": 4,
  "vscode": {
   "interpreter": {
    "hash": "1b26e2f8e961ab3af3280453c3aba252cf5b0872d5abffcce756b47b945d6198"
   }
  }
 },
 "nbformat": 4,
 "nbformat_minor": 2
}
