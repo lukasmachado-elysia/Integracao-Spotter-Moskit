{
 "cells": [
  {
   "cell_type": "code",
   "execution_count": 24,
   "metadata": {},
   "outputs": [],
   "source": [
    "import requests\n",
    "from datetime import datetime\n",
    "import traceback as tb\n",
    "import inspect \n",
    "\n",
    "head = {'Content-Type': \"application/json\",\n",
    "        'apikey': \"a2c471ed-68d4-4693-916c-7afd42e0d943\"}\n",
    "        \n",
    "agendamento = {'Event': 'event.schedule', 'Appointment': {'BoxId': 9548163, 'PreviousBoxId': 0, \n",
    "        'SalesRep': {'Name': 'Réver', 'LastName': 'Martins', 'Email': 'rever@elysia.com.br'}, \n",
    "        'MeetingType': 'Conferência web', 'LinkFeedback': 'https://app.exactspotter.com/reuniao/MTMzMzY5OA2', \n",
    "        'DateTimeStartDate': '2022-12-14T11:00:00', 'DateTimeEndDate': '2022-12-14T12:00:00', 'MeetingTypeEnum': 2},\n",
    "        'Lead': {'Id': 10459239, 'Company': 'Teste Integração Moskit', 'CreatedAt': '2022-12-13T18:19:53.9880059', \n",
    "        'UpdatedAt': '2022-12-13T18:21:33.6605691', 'Contact': [{'Id': 11084902, 'LeadId': 10459239, 'Name': 'Vinicius'}], \n",
    "        'Industry': {'id': 64187, 'value': '[object Object] - undefined'}, 'Origin': {'id': 38182, 'value': 'Anúncio'}, \n",
    "        'SubOrigin': {}, 'SDR': {'Name': 'Vinícius', 'LastName': 'Pizzinato', 'Email': 'vinicius.pizzinato@elysia.com.br'}, \n",
    "        'SalesRep': {'Name': 'Réver', 'LastName': 'Martins', 'Email': 'rever@elysia.com.br'}, \n",
    "        'PublicLink': 'https://app.exactspotter.com/public/aWQ9MTA0NTkyMzkmZWNpZD0xMjQ1Nw2', 'MktLink': '', 'Site': '', \n",
    "        'ProductLead': '', 'Address': {'Address_Maps': '', 'PublicPlaceName': '', 'AddAddressInformation': '', 'ZipCode': ''}, \n",
    "        'Stage': 'Agendados', 'SalesQualification': False, 'PainPoints': [], 'Products': [], \n",
    "        'CustomFields': [{'id': '_cnpj', 'value': '16.165.464/5646-45'}], \n",
    "        'Stages': [{'StageId': 23101, 'Stage': 'Entrada', 'LeadQualification': 'Quente', 'ReviewDate': '2022-12-13T18:20:26.4113242'}, \n",
    "        {'StageId': 23100, 'Stage': 'Filtro 1', 'LeadQualification': 'Muito Quente', 'ReviewDate': '2022-12-13T18:20:43.3361218'}, \n",
    "        {'StageId': 23099, 'Stage': 'Filtro 2', 'LeadQualification': 'Muito Quente', 'ReviewDate': '2022-12-13T18:20:50.5148208'}], \n",
    "        'UserId': 329902, 'CurrentCycle': 1, 'SsnEin': '', 'Empresa': 'Teste Integração Moskit', 'DtCadastro': '2022-12-13T18:19:53.9880059', \n",
    "        'DtAtualizacao': '2022-12-13T18:21:33.6605691', 'Contatos': [{'Id': 11084902, 'LeadId': 10459239, 'Nome': 'Vinicius'}], \n",
    "        'Mercado': {'id': 64187, 'value': '[object Object] - undefined'}, 'Origem': {'id': 38182, 'value': 'Anúncio'}, 'SubOrigem': {}, \n",
    "        'PreVendedor': {'Email': 'vinicius.pizzinato@elysia.com.br', 'Nome': 'Vinícius', 'UltimoNome': 'Pizzinato'}, \n",
    "        'Vendedor': {'Email': 'rever@elysia.com.br', 'Nome': 'Réver', 'UltimoNome': 'Martins'}, \n",
    "        'LinkPublico': 'https://app.exactspotter.com/public/aWQ9MTA0NTkyMzkmZWNpZD0xMjQ1Nw2', 'LinkMkt': '', 'ProdutoLead': '', \n",
    "        'Endereco': {'Endereco_Maps': '', 'Logradouro': '', 'Complemento': '', 'CepZipcode': ''}, 'Etapa': 'Agendados', 'Dores': [], 'Produtos': [], \n",
    "        'CamposPersonalizados': [{'id': '_cnpj', 'value': '16.165.464/5646-45'}], \n",
    "        'Etapas': [{'StageId': 23101, 'Stage': 'Entrada', 'LeadQualification': 'Quente', 'ReviewDate': '2022-12-13T18:20:26.4113242'}, \n",
    "        {'StageId': 23100, 'Stage': 'Filtro 1', 'LeadQualification': 'Muito Quente', 'ReviewDate': '2022-12-13T18:20:43.3361218'}, \n",
    "        {'StageId': 23099, 'Stage': 'Filtro 2', 'LeadQualification': 'Muito Quente', 'ReviewDate': '2022-12-13T18:20:50.5148208'}], \n",
    "        'UsuarioId': 329902, 'CicloAtual': 1, 'CpfCnpj': ''}, 'Agendamento': {'BoxId': 9548163, 'BoxId_anterior': 0, \n",
    "        'Vendedor': {'Email': 'rever@elysia.com.br', 'Nome': 'Réver', 'UltimoNome': 'Martins'}, \n",
    "        'TipoReuniao': 'Conferência web', 'LinkFeedback': 'https://app.exactspotter.com/reuniao/MTMzMzY5OA2', \n",
    "        'DtInicioDateTime': '2022-12-14T11:00:00', 'DtFimDateTime': '2022-12-14T12:00:00', 'TipoReuniaoEnum': 0}}"
   ]
  },
  {
   "attachments": {},
   "cell_type": "markdown",
   "metadata": {},
   "source": [
    "## Pesquisando negócio"
   ]
  },
  {
   "cell_type": "code",
   "execution_count": 2,
   "metadata": {},
   "outputs": [
    {
     "name": "stdout",
     "output_type": "stream",
     "text": [
      "200\n",
      "{'id': 13914778, 'createdBy': {'id': 36432}, 'responsible': {'id': 62730}, 'dateCreated': '2022-01-27T18:29:15.000+00:00', 'name': 'Negócio SH FORMAS ANDAIMES E ESCORAMENTOS LTDA', 'source': 'EXACT', 'origin': 'Exact', 'status': 'OPEN', 'doneActivities': 2, 'pendingActivities': 0, 'totalInteractions': 4, 'totalNotes': 0, 'emailsClicked': 0, 'emailsOpened': 0, 'emailsSent': 0, 'runningProjects': 0, 'archivedProjects': 0, 'initializedWhatsapp': 0, 'synchronizedWhatsapp': 0, 'lastActivityDone': '2022-09-28T17:01:22.000+00:00', 'lastAssignedDate': '2022-04-01T14:50:12.000+00:00', 'lastInteraction': '2022-09-28T17:01:22.000+00:00', 'lastChangeStage': '2022-02-21T12:56:30.000+00:00', 'stage': {'id': 108359}, 'dealProducts': [], 'contacts': [{'id': 14729043}], 'activities': [{'id': 19603267}, {'id': 19698717}], 'companies': [{'id': 4787072}], 'entityCustomFields': [{'id': 'CF_AE5mpEi8SdObVDO3', 'numericValue': 14255068}, {'id': 'CF_AE5mpEijCdOb4DO3', 'textValue': 'N-7732-2/02 - Aluguel de andaimes'}, {'id': 'CF_075MJ2ijC6l8JMaz', 'textValue': 'Prospecção Ativa'}, {'id': 'CF_VRAqd1idCEpY2MbL', 'textValue': 'vinicius.pizzinato@elysia.com.br'}, {'id': 'CF_0WGqoEiKC9RyZmnP', 'textValue': 'Rua Ítalo Raffo, 465 - Cedic, Cachoeirinha - RS'}, {'id': 'CF_oJZmP1iKCGR0oDgv', 'textValue': 'Cachoeirinha'}, {'id': 'CF_VrKMbQiaCOVNKqZY', 'textValue': 'Rio Grande do Sul'}]}\n"
     ]
    }
   ],
   "source": [
    "req = requests.get(url=\"https://api.moskitcrm.com/v2/deals/\"+str(13914778), headers=head)\n",
    "\n",
    "print(req.status_code)\n",
    "print(req.json())"
   ]
  },
  {
   "attachments": {},
   "cell_type": "markdown",
   "metadata": {},
   "source": [
    "## Pesquisando atividades"
   ]
  },
  {
   "cell_type": "code",
   "execution_count": 4,
   "metadata": {},
   "outputs": [
    {
     "name": "stdout",
     "output_type": "stream",
     "text": [
      "200\n",
      "{'id': 19603267, 'title': 'Agendamento pré-venda SH FORMAS ANDAIMES E ESCORAMENTOS LTDA', 'createdBy': {'id': 36432}, 'responsible': {'id': 36432}, 'doneUser': {'id': 36432}, 'source': 'EXACT', 'origin': 'Exact', 'doneSource': 'EXACT', 'dateCreated': '2022-01-27T18:29:16.000+00:00', 'dueDate': '2022-01-28T14:30:00.000+00:00', 'doneDate': '2022-01-28T19:04:15.000+00:00', 'type': {'id': 57647}, 'duration': 60, 'totalTries': 0, 'notes': 'Filtro 1 - Quente (06/01/2022 19:02)\\n\\nQual a localização da empresa?: Porto Alegre e região\\nQual o segmento da empresa?: Indústrias\\nO imóvel possui área disponível para instalação?: Sim\\nEncontrou algum decisor?: Sim\\nNome, Cargo, E-mail, Contato.: Janete\\r\\nSupervisora\\r\\njanete.lorenz@sh.com.br\\r\\n(51) 9987-62769\\n\\n\\nFiltro 2 - Quente (27/01/2022 18:26)\\n\\nConhece como funciona a geração de energia solar para empresas?: Sim, já pesquisei sobre o assunto\\nJá chegou a fazer orçamentos para instalação?: Não\\nQuanto gasta de conta de luz?: de R$10.000 a R$20.000\\nAcredita ser interessante ter uma economia de até 95% nos gastos de conta de luz?: Sim, é muito interessante\\nSabia que é possível trocar a sua conta de luz pela parcela do financiamento?: Sim, tenho interesse\\nE se você pudesse direcionar esses custos com energia para outros investimentos?: Sim, seria muito bom\\nEu verifiquei na internet que vocês têm um espaço bem amplo, você saberia me dizer se tem espaço para instalação de placa solares?: Sim, tenho um bom espaço\\nO imóvel atual é próprio ou alugado?: Alugado, com possibilidade de utilizar\\nVocê é o único responsável pela tomada de decisão?: Não, é um conselho administrativo ou similar\\n\\n\\nFiltro 3 - Muito Quente (27/01/2022 18:28)\\n\\nOrçamento Enviado: Não\\n\\n\\nObservações: https://sh.com.br/pt/', 'doneNotes': 'Feedback de Reunião - Morna (28/01/2022 19:04)\\n\\nQuem participou da reunião?: Influenciador indireto\\nQual o grau de interesse demonstrado?: Interessado\\nPoder financeiro da empresa? : Sem informação\\nEm quanto tempo você acredita que pode vender?: Não sei\\nTem viabilidade de instalação?: Sim\\nConseguiu conta de luz?: Sim, previamente', 'contacts': [{'id': 14729043}], 'deals': [{'id': 13914778}], 'companies': [{'id': 4787072}], 'entityCustomFields': []}\n"
     ]
    }
   ],
   "source": [
    "req = requests.get(url=\"https://api.moskitcrm.com/v2/activities/\"+str(19603267), headers=head)\n",
    "\n",
    "print(req.status_code)\n",
    "print(req.json())"
   ]
  },
  {
   "attachments": {},
   "cell_type": "markdown",
   "metadata": {},
   "source": [
    "## Busca usuarios no moskit"
   ]
  },
  {
   "cell_type": "code",
   "execution_count": null,
   "metadata": {},
   "outputs": [],
   "source": [
    "def lista_Users_Moskit() -> list:\n",
    "    '''\n",
    "        Realiza requisicoes na API do MOSKIT buscando todos os usuarios ativos e inativos.\\n\n",
    "        Retorna *(list)* dos usuarios.\n",
    "    '''\n",
    "    try:\n",
    "        # Pega em qual modulo e funcao esta o fluxo\n",
    "        functionExec = inspect.currentframe()\n",
    "        strInfo = \"[module({}) -> func({}): ]\".format( str(__name__),\n",
    "                                                       str(inspect.getframeinfo(functionExec).function) ) \n",
    "\n",
    "        # Pesquisa todos os usuarios no sistema moskit\n",
    "        stopOverflow = 0\n",
    "        queryString = {'quantity': 50}\n",
    "        req = requests.get(url=\"https://api.moskitcrm.com/v2/users\", headers=head, params=queryString) # 50 eh o maximo para cada requisicao\n",
    "\n",
    "        # Pega lista de usuarios do moskit\n",
    "        dic = req.json()\n",
    "\n",
    "        # Pega quanto tem para buscar e quanto ja foi buscado na primeira requisicao\n",
    "        totalToSearch = int(req.headers['X-Moskit-Listing-Total'])\n",
    "        totalSearch = int(req.headers['X-Moskit-Listing-Present'])\n",
    "\n",
    "        # Enquanto a quantidade de buscas for diferente do total para buscar, continua buscando e colocando ao dicionario\n",
    "        while (totalSearch != totalToSearch and req.status_code == 200) or (stopOverflow >=100):\n",
    "            print(\"--> Response: \" + str(req.status_code))\n",
    "            \n",
    "            # Token para proxima pasta no header\n",
    "            queryString['nextPageToken'] = req.headers['X-Moskit-Listing-Next-Page-Token']\n",
    "\n",
    "            req = requests.get(url=\"https://api.moskitcrm.com/v2/users\", headers=head, params=queryString)\n",
    "            stopOverflow +=1 # incrementa o stopOverflow que ira impedir laço infinito neste loop caso passe do total de 100 requisicoes\n",
    "            \n",
    "            # Verifica se teve retorno\n",
    "            if req.status_code == 200:\n",
    "                dic.extend([i for i in req.json()])\n",
    "                totalSearch+= int(req.headers['X-Moskit-Listing-Present'])\n",
    "                \n",
    "                print('--> Total buscado: {}'.format(str(totalSearch)))\n",
    "                print('--> Total a buscar:  {}'.format(str(totalToSearch)))\n",
    "            else:\n",
    "                # Erro ao realizar busca de mais usuarios\n",
    "                # Logging CRITICAL\n",
    "                logger.critical(strInfo.join(\"Detalhe da Requisicao: \" + str(req.json()) + \"\\n Enviado usuario padrao - 36432: TOMÁS CRESTANA ZANETTI\"))\n",
    "\n",
    "                # EM CASO DE ERRO CRITICO OU WARNING NA BUSCA DE USUARIOS, COLOCAR O TOMÁS CRESTANA ZANETTI COMO USER PADRAO\n",
    "                return [{'id': 36432, 'name': 'Tomás Crestana Zanetti'}]\n",
    "        return dic\n",
    "    except Exception as e:\n",
    "        # Loggin CRITICAL\n",
    "        error = strInfo.join(tb.format_exception(e))\n",
    "        logger.critical(error + \" \" + \"Enviado usuario padrao - 36432: TOMAS CRESTANA ZANETTI\")\n",
    "\n",
    "        # Em caso de erro CRITICO nesta funcao iremos retornar um usuario padrao\n",
    "        return [{'id': 36432, 'name': 'Tomás Crestana Zanetti'}]"
   ]
  },
  {
   "cell_type": "code",
   "execution_count": null,
   "metadata": {},
   "outputs": [],
   "source": [
    "def search_Id_Moskit_User(allUsers:list=[]) -> int:\n",
    "    try:\n",
    "        idMoskitUser = 0\n",
    "        nameSalesRep = {'pNome': str(agendamento['Appointment']['SalesRep']['Name']).lower(), 'sNome': str(agendamento['Appointment']['SalesRep']['LastName']).lower()}\n",
    "        \n",
    "        # Cria uma lista de usuarios ativos para verificar os vendedores\n",
    "        activeUsers = []\n",
    "        for users in allUsers:\n",
    "            if users['active'] == True:\n",
    "                activeUsers.append({'id': int(users['id']), 'name': str(users['name'])})\n",
    "\n",
    "        # Checagem do tamanho da lista, deve ser maior que 1, caso seja igual a 1 significa que foi usuario padrao - Possivel erro \n",
    "        if len(activeUsers) > 1:\n",
    "\n",
    "            # Verificar se o nome existe na lista\n",
    "            for user in activeUsers:\n",
    "                name = user['name'].lower()\n",
    "                # Encontrando Nome \n",
    "                # Verificar se o pNome e o sNome estao contidos no nome da lista de ativos do moskit\n",
    "                # Ex.: Lista Users -> name = 'maria joaquina fernandes carvalho'\n",
    "                #      JSON Agenda - {'pNome': 'maria joaquina', 'sNome': 'fernandes carvalho'}\n",
    "                # O sNome deve ser splitado para verificar separadamente se cada sobrenome esta presente no nome do usuario no moskit\n",
    "\n",
    "                pNomeEcontrado = 0\n",
    "                sNomeEcontrado = 0\n",
    "\n",
    "                if nameSalesRep['pNome'] in name: # Se primeiro nome estiver na string 'name' entao verifica se o sobrenome\n",
    "                    pNomeEcontrado +=1\n",
    "                    if nameSalesRep['sNome'] in name: # Verificar se sobrenome inteiro esta na string 'name'\n",
    "                        sNomeEcontrado = 2 # 2 pois encontrou o sobrenome inteiro\n",
    "                        idMoskitUser = user['id'] # Retorna o Id do usuario encontrado\n",
    "                        break\n",
    "                    else:\n",
    "                        # Splitar o nameSalesRep['sName'] e verificar se cada substring do sobrenome esta presente na string 'name'\n",
    "                        subStringSobrenome = nameSalesRep['sNome'].split(\" \")\n",
    "                        for sub in subStringSobrenome:\n",
    "                            if sub in name:\n",
    "                                sNomeEcontrado += 1\n",
    "        else:\n",
    "            # Lista de usuarios teve erro ao buscar usuarios, utilizar o padrao\n",
    "            # Logging WARNING\n",
    "            #\n",
    "            # --- Logging aqui\n",
    "            #\n",
    "            print(\"Nao existem usuarios cadatrados no moskit ou todos estao inativos no momento da consulta!\")\n",
    "            return 36432 # Avisar sobre este warning em logging (e e-mail, talvez)\n",
    "\n",
    "        # -------------------------------- CAMINHO FELIZ --------------------------------\n",
    "        # Nao ocorreu erro na busca, agora eh so verificar se o usuario foi encontrado\n",
    "        # Verifica se o nome foi encontrado\n",
    "        # -------------------------------------------------------------------------------\n",
    "\n",
    "        if (pNomeEcontrado + sNomeEcontrado) >= 2: # Valor sendo > 3 significa que encontrou pNome completo e pelo menos 1 sobrenome \n",
    "            # Printar no console\n",
    "            print('''Nome encontrado!!!\\n\\nNome API MOSKIT\\n->ID:{}\\n->NOME:{}\\nNome API SPOTTER\\n->NOME:{}'''.format(user['id'],user['name'],\" \".join([nameSalesRep['pNome'],nameSalesRep['sNome']]) ))\n",
    "            return idMoskitUser\n",
    "        else:\n",
    "            # Nome nao encontrado logging aqui\n",
    "            print('Nome nao encontrado!')\n",
    "            # Logging WARNING\n",
    "            #\n",
    "            # --- Logging aqui\n",
    "            #\n",
    "            return 36432 # Nao foi localizado o nome e o usuario padrao sera o {'id': 36432, 'name': 'Tomás Crestana Zanetti'} -- att 05/01/2023\n",
    "    except Exception as e:\n",
    "            # Loggin CRITICAL\n",
    "            functionExec = inspect.currentframe()\n",
    "            strError = \"[module({}) -> func({})]\".format(str(__name__),str(inspect.getframeinfo(functionExec).function)) # Coloca qual funcao ocorreu erro\n",
    "            error = strError.join(tb.format_exception(e))\n",
    "            return 36432 # Nao foi localizado o nome e o usuario padrao sera o {'id': 36432, 'name': 'Tomás Crestana Zanetti'} -- att 05/01/2023\n",
    "search_Id_Moskit_User(lista_Users_Moskit())"
   ]
  },
  {
   "attachments": {},
   "cell_type": "markdown",
   "metadata": {},
   "source": [
    "## Criando negócio"
   ]
  },
  {
   "cell_type": "code",
   "execution_count": null,
   "metadata": {},
   "outputs": [],
   "source": [
    "payload = {\n",
    "    \"createdBy\": {\"id\": 35345}, # Id do vendedor responsavel \n",
    "    \"responsible\": {\"id\": 35345}, # Id do vendedor responsavel\n",
    "    \"name\": \"Negócio Empresa Inventada 2 API\", # Nome da empresa empresa\n",
    "    \"price\": 1, # Verificar se e importante\n",
    "    \"status\": \"OPEN\", # Negocio aberto\n",
    "    \"stage\": {\"id\": 109019}}# Define o estagio como sendo visita agendada\n",
    "\n",
    "req = requests.post(url=\"https://api.moskitcrm.com/v2/deals\", json=payload, headers=head)\n",
    "\n",
    "print(req.status_code)\n",
    "print(req.json())\n",
    "codigoNegocio = req.json()['id']"
   ]
  },
  {
   "attachments": {},
   "cell_type": "markdown",
   "metadata": {},
   "source": [
    "## Criando atividade e linkando com o negócio"
   ]
  },
  {
   "cell_type": "code",
   "execution_count": 4,
   "metadata": {},
   "outputs": [
    {
     "name": "stdout",
     "output_type": "stream",
     "text": [
      "200\n",
      "{'id': 28543138, 'createdBy': {'id': 35345}, 'doneUser': {'id': 35345}, 'dateCreated': '2023-01-02T13:34:13.251+00:00', 'deals': [{'id': 20314949}], 'doneDate': '2023-01-02T21:08:29.000+00:00', 'dueDate': '2023-01-02T21:08:29.000+00:00', 'duration': 60, 'totalTries': 0, 'notes': 'fala vini, beleza, testando a nota aqui\\n\\n\\nalgumas quebras de linha\\n\\n\\n\\n\\n mais algumas e fechou balada.', 'responsible': {'id': 35345}, 'source': 'MOSKIT_API_V2', 'origin': 'API V2', 'title': 'Agendamento Pré-Venda (Nome da Empresa)', 'type': {'id': 57647}}\n"
     ]
    }
   ],
   "source": [
    "payLoad = {'title': \"Agendamento Pré-Venda (Nome da Empresa)\",\n",
    "            'createdBy': {'id': 35345}, # Id do vendedor responsavel\n",
    "            'responsible': {'id': 35345}, # Id do vendedor responsavel\n",
    "            'doneUser': {\"id\": 35345}, # Id do vendedor responsavel\n",
    "            'type': {'id': 57647}, # Tipo: Agendamento\n",
    "            'duration': 60, # Duracao da reuniao    \n",
    "            'dueDate': datetime.today().strftime(\"%Y-%m-%dT%H:%M:%S.000-%X\"),\n",
    "            'doneDate': datetime.today().strftime(\"%Y-%m-%dT%H:%M:%S.000-%X\"), # Define atividade como fechada\n",
    "            'notes': \"fala vini, beleza, testando a nota aqui\\n\\n\\nalgumas quebras de linha\\n\\n\\n\\n\\n mais algumas e fechou balada.\", # Notas com filtros\n",
    "            'deals': [{'id': codigoNegocio}]}\n",
    "\n",
    "req = requests.post(url=\"https://api.moskitcrm.com/v2/activities\", headers=head, json=payLoad)\n",
    "\n",
    "print(req.status_code)\n",
    "print(req.json())\n",
    "codigoAtividade = req.json()['id']"
   ]
  },
  {
   "attachments": {},
   "cell_type": "markdown",
   "metadata": {},
   "source": [
    "## Criando empresa e linkando com o negócio"
   ]
  },
  {
   "cell_type": "code",
   "execution_count": 5,
   "metadata": {},
   "outputs": [
    {
     "name": "stdout",
     "output_type": "stream",
     "text": [
      "200\n",
      "{'id': 6332763, 'name': 'Empresa Inventada 1 API', 'source': 'MOSKIT_API_V2', 'origin': 'API V2', 'dateCreated': '2023-01-02T13:34:17.024+00:00', 'createdBy': {'id': 35345}, 'responsible': {'id': 35345}, 'primaryEmail': {'id': 17764030}, 'primaryPhone': {'id': 23802950}, 'deals': [{'id': 20314949}], 'emails': [{'id': 17764030, 'address': 'empresaInventada@inventado.com.br'}], 'phones': [{'id': 23802950, 'number': '5133333333'}], 'lastAssignedDate': '2023-01-02T13:34:17.024+00:00', 'doneActivities': 0, 'pendingActivities': 0, 'totalNotes': 0, 'totalInteractions': 0, 'lastInteraction': '2023-01-02T13:34:17.024+00:00', 'wonDeals': 0, 'lostDeals': 0, 'runningDeals': 0}\n"
     ]
    }
   ],
   "source": [
    "payLoad = {\"createdBy\": {\"id\": 35345}, # Id do vendedor responsavel\n",
    "            \"responsible\": {\"id\": 35345}, # Id do vendedor responsavel\n",
    "            \"name\": \"Empresa Inventada 2 API\", # Nome da empresa\n",
    "            'phones': [{'number': \"5133333333\"}], # Telefone da empresa\n",
    "            'emails': [{'address': \"empresaInventada@inventado.com.br\"}],\n",
    "            'deals': [{'id': codigoNegocio}]} # Negocio para linkar\n",
    "\n",
    "req = requests.post(url=\"https://api.moskitcrm.com/v2/companies\", json=payLoad, headers=head)\n",
    "\n",
    "print(req.status_code)\n",
    "print(req.json())\n",
    "codigoEmpresa = req.json()['id']"
   ]
  },
  {
   "attachments": {},
   "cell_type": "markdown",
   "metadata": {},
   "source": [
    "## Criando contato e linkando com negócio e empresa"
   ]
  },
  {
   "cell_type": "code",
   "execution_count": 6,
   "metadata": {},
   "outputs": [
    {
     "name": "stdout",
     "output_type": "stream",
     "text": [
      "200\n",
      "{'id': 20775559, 'name': 'Contato Principal Empresa Inventada 1', 'source': 'MOSKIT_API_V2', 'origin': 'API V2', 'dateCreated': '2023-01-02T13:34:20.830+00:00', 'createdBy': {'id': 35345}, 'responsible': {'id': 35345}, 'primaryEmail': {'id': 17764031}, 'primaryPhone': {'id': 23802951}, 'employers': [{'company': {'id': 6332763}}], 'deals': [{'id': 20314949}], 'emails': [{'id': 17764031, 'address': 'contatoEmpresaInventada@inventado.com.br'}], 'phones': [{'id': 23802951, 'number': '5199999999'}], 'lastAssignedDate': '2023-01-02T13:34:20.830+00:00', 'emailsSent': 0, 'emailsOpened': 0, 'emailsClicked': 0, 'doneActivities': 0, 'pendingActivities': 0, 'totalNotes': 0, 'totalInteractions': 0, 'lastInteraction': '2023-01-02T13:34:20.830+00:00', 'wonDeals': 0, 'lostDeals': 0, 'runningDeals': 0}\n"
     ]
    }
   ],
   "source": [
    "payLoad = {'createdBy': {'id': 35345}, # Id do vendedor responsavel\n",
    "            'responsible': {'id': 35345}, # Id do vendedor responsavel\n",
    "            'name': \"Contato Principal Empresa Inventada 2\",\n",
    "            'phones': [{'number': \"5199999999\"}],\n",
    "            'emails': [{'address': \"contatoEmpresaInventada@inventado.com.br\"}],\n",
    "            'deals': [{'id': codigoNegocio}], # Id do negocio para linkar\n",
    "            'employers': [{'company': {'id': codigoEmpresa}}]} # Id da empresa para linkar\n",
    "\n",
    "req = requests.post(url=\"https://api.moskitcrm.com/v2/contacts\", json=payLoad, headers=head)\n",
    "\n",
    "print(req.status_code)\n",
    "print(req.json())\n",
    "codigoContato= req.json()['id']"
   ]
  }
 ],
 "metadata": {
  "kernelspec": {
   "display_name": "envIntegracao",
   "language": "python",
   "name": "python3"
  },
  "language_info": {
   "codemirror_mode": {
    "name": "ipython",
    "version": 3
   },
   "file_extension": ".py",
   "mimetype": "text/x-python",
   "name": "python",
   "nbconvert_exporter": "python",
   "pygments_lexer": "ipython3",
   "version": "3.10.8 (main, Nov 24 2022, 14:13:03) [GCC 11.2.0]"
  },
  "orig_nbformat": 4,
  "vscode": {
   "interpreter": {
    "hash": "1b26e2f8e961ab3af3280453c3aba252cf5b0872d5abffcce756b47b945d6198"
   }
  }
 },
 "nbformat": 4,
 "nbformat_minor": 2
}
