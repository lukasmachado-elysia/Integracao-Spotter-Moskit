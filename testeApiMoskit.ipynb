{
 "cells": [
  {
   "cell_type": "code",
   "execution_count": 1,
   "metadata": {},
   "outputs": [],
   "source": [
    "import requests\n",
    "from datetime import datetime\n",
    "import traceback as tb\n",
    "import inspect \n",
    "\n",
    "head = {'Content-Type': \"application/json\",\n",
    "        'apikey': \"a2c471ed-68d4-4693-916c-7afd42e0d943\",\n",
    "        \"X-Moskit-Origin\": \"Spotter_Integracao_TI_Elysia\"}"
   ]
  },
  {
   "attachments": {},
   "cell_type": "markdown",
   "metadata": {},
   "source": [
    "## Pesquisando negócio"
   ]
  },
  {
   "cell_type": "code",
   "execution_count": 2,
   "metadata": {},
   "outputs": [
    {
     "name": "stdout",
     "output_type": "stream",
     "text": [
      "200\n",
      "{'id': 13914778, 'createdBy': {'id': 36432}, 'responsible': {'id': 62730}, 'dateCreated': '2022-01-27T18:29:15.000+00:00', 'name': 'Negócio SH FORMAS ANDAIMES E ESCORAMENTOS LTDA', 'source': 'EXACT', 'origin': 'Exact', 'status': 'OPEN', 'doneActivities': 2, 'pendingActivities': 0, 'totalInteractions': 4, 'totalNotes': 0, 'emailsClicked': 0, 'emailsOpened': 0, 'emailsSent': 0, 'runningProjects': 0, 'archivedProjects': 0, 'initializedWhatsapp': 0, 'synchronizedWhatsapp': 0, 'lastActivityDone': '2022-09-28T17:01:22.000+00:00', 'lastAssignedDate': '2022-04-01T14:50:12.000+00:00', 'lastInteraction': '2022-09-28T17:01:22.000+00:00', 'lastChangeStage': '2022-02-21T12:56:30.000+00:00', 'stage': {'id': 108359}, 'dealProducts': [], 'contacts': [{'id': 14729043}], 'activities': [{'id': 19603267}, {'id': 19698717}], 'companies': [{'id': 4787072}], 'entityCustomFields': [{'id': 'CF_AE5mpEi8SdObVDO3', 'numericValue': 14255068}, {'id': 'CF_AE5mpEijCdOb4DO3', 'textValue': 'N-7732-2/02 - Aluguel de andaimes'}, {'id': 'CF_075MJ2ijC6l8JMaz', 'textValue': 'Prospecção Ativa'}, {'id': 'CF_VRAqd1idCEpY2MbL', 'textValue': 'vinicius.pizzinato@elysia.com.br'}, {'id': 'CF_0WGqoEiKC9RyZmnP', 'textValue': 'Rua Ítalo Raffo, 465 - Cedic, Cachoeirinha - RS'}, {'id': 'CF_oJZmP1iKCGR0oDgv', 'textValue': 'Cachoeirinha'}, {'id': 'CF_VrKMbQiaCOVNKqZY', 'textValue': 'Rio Grande do Sul'}]}\n"
     ]
    }
   ],
   "source": [
    "req = requests.get(url=\"https://api.moskitcrm.com/v2/deals/\"+str(13914778), headers=head)\n",
    "\n",
    "print(req.status_code)\n",
    "print(req.json())"
   ]
  },
  {
   "attachments": {},
   "cell_type": "markdown",
   "metadata": {},
   "source": [
    "## Pesquisando atividades"
   ]
  },
  {
   "cell_type": "code",
   "execution_count": 4,
   "metadata": {},
   "outputs": [
    {
     "name": "stdout",
     "output_type": "stream",
     "text": [
      "200\n",
      "{'id': 19603267, 'title': 'Agendamento pré-venda SH FORMAS ANDAIMES E ESCORAMENTOS LTDA', 'createdBy': {'id': 36432}, 'responsible': {'id': 36432}, 'doneUser': {'id': 36432}, 'source': 'EXACT', 'origin': 'Exact', 'doneSource': 'EXACT', 'dateCreated': '2022-01-27T18:29:16.000+00:00', 'dueDate': '2022-01-28T14:30:00.000+00:00', 'doneDate': '2022-01-28T19:04:15.000+00:00', 'type': {'id': 57647}, 'duration': 60, 'totalTries': 0, 'notes': 'Filtro 1 - Quente (06/01/2022 19:02)\\n\\nQual a localização da empresa?: Porto Alegre e região\\nQual o segmento da empresa?: Indústrias\\nO imóvel possui área disponível para instalação?: Sim\\nEncontrou algum decisor?: Sim\\nNome, Cargo, E-mail, Contato.: Janete\\r\\nSupervisora\\r\\njanete.lorenz@sh.com.br\\r\\n(51) 9987-62769\\n\\n\\nFiltro 2 - Quente (27/01/2022 18:26)\\n\\nConhece como funciona a geração de energia solar para empresas?: Sim, já pesquisei sobre o assunto\\nJá chegou a fazer orçamentos para instalação?: Não\\nQuanto gasta de conta de luz?: de R$10.000 a R$20.000\\nAcredita ser interessante ter uma economia de até 95% nos gastos de conta de luz?: Sim, é muito interessante\\nSabia que é possível trocar a sua conta de luz pela parcela do financiamento?: Sim, tenho interesse\\nE se você pudesse direcionar esses custos com energia para outros investimentos?: Sim, seria muito bom\\nEu verifiquei na internet que vocês têm um espaço bem amplo, você saberia me dizer se tem espaço para instalação de placa solares?: Sim, tenho um bom espaço\\nO imóvel atual é próprio ou alugado?: Alugado, com possibilidade de utilizar\\nVocê é o único responsável pela tomada de decisão?: Não, é um conselho administrativo ou similar\\n\\n\\nFiltro 3 - Muito Quente (27/01/2022 18:28)\\n\\nOrçamento Enviado: Não\\n\\n\\nObservações: https://sh.com.br/pt/', 'doneNotes': 'Feedback de Reunião - Morna (28/01/2022 19:04)\\n\\nQuem participou da reunião?: Influenciador indireto\\nQual o grau de interesse demonstrado?: Interessado\\nPoder financeiro da empresa? : Sem informação\\nEm quanto tempo você acredita que pode vender?: Não sei\\nTem viabilidade de instalação?: Sim\\nConseguiu conta de luz?: Sim, previamente', 'contacts': [{'id': 14729043}], 'deals': [{'id': 13914778}], 'companies': [{'id': 4787072}], 'entityCustomFields': []}\n"
     ]
    }
   ],
   "source": [
    "req = requests.get(url=\"https://api.moskitcrm.com/v2/activities/\"+str(19603267), headers=head)\n",
    "\n",
    "print(req.status_code)\n",
    "print(req.json())"
   ]
  },
  {
   "attachments": {},
   "cell_type": "markdown",
   "metadata": {},
   "source": [
    "## Busca usuarios no moskit"
   ]
  },
  {
   "attachments": {},
   "cell_type": "markdown",
   "metadata": {},
   "source": [
    "## Criando negócio"
   ]
  },
  {
   "cell_type": "code",
   "execution_count": null,
   "metadata": {},
   "outputs": [],
   "source": [
    "payload = {\n",
    "    \"createdBy\": {\"id\": 35345}, # Id do vendedor responsavel \n",
    "    \"responsible\": {\"id\": 35345}, # Id do vendedor responsavel\n",
    "    \"name\": \"Negócio Empresa Inventada 2 API\", # Nome da empresa empresa\n",
    "    \"price\": 1, # Verificar se e importante\n",
    "    \"status\": \"OPEN\", # Negocio aberto\n",
    "    \"stage\": {\"id\": 109019}}# Define o estagio como sendo visita agendada\n",
    "\n",
    "req = requests.post(url=\"https://api.moskitcrm.com/v2/deals\", json=payload, headers=head)\n",
    "\n",
    "print(req.status_code)\n",
    "print(req.json())\n",
    "codigoNegocio = req.json()['id']"
   ]
  },
  {
   "attachments": {},
   "cell_type": "markdown",
   "metadata": {},
   "source": [
    "## Criando atividade e linkando com o negócio"
   ]
  },
  {
   "cell_type": "code",
   "execution_count": 4,
   "metadata": {},
   "outputs": [
    {
     "name": "stdout",
     "output_type": "stream",
     "text": [
      "200\n",
      "{'id': 28543138, 'createdBy': {'id': 35345}, 'doneUser': {'id': 35345}, 'dateCreated': '2023-01-02T13:34:13.251+00:00', 'deals': [{'id': 20314949}], 'doneDate': '2023-01-02T21:08:29.000+00:00', 'dueDate': '2023-01-02T21:08:29.000+00:00', 'duration': 60, 'totalTries': 0, 'notes': 'fala vini, beleza, testando a nota aqui\\n\\n\\nalgumas quebras de linha\\n\\n\\n\\n\\n mais algumas e fechou balada.', 'responsible': {'id': 35345}, 'source': 'MOSKIT_API_V2', 'origin': 'API V2', 'title': 'Agendamento Pré-Venda (Nome da Empresa)', 'type': {'id': 57647}}\n"
     ]
    }
   ],
   "source": [
    "payLoad = {'title': \"Agendamento Pré-Venda (Nome da Empresa)\",\n",
    "            'createdBy': {'id': 35345}, # Id do vendedor responsavel\n",
    "            'responsible': {'id': 35345}, # Id do vendedor responsavel\n",
    "            'doneUser': {\"id\": 35345}, # Id do vendedor responsavel\n",
    "            'type': {'id': 57647}, # Tipo: Agendamento\n",
    "            'duration': 60, # Duracao da reuniao    \n",
    "            'dueDate': datetime.today().strftime(\"%Y-%m-%dT%H:%M:%S.000-%X\"),\n",
    "            'doneDate': datetime.today().strftime(\"%Y-%m-%dT%H:%M:%S.000-%X\"), # Define atividade como fechada\n",
    "            'notes': \"fala vini, beleza, testando a nota aqui\\n\\n\\nalgumas quebras de linha\\n\\n\\n\\n\\n mais algumas e fechou balada.\", # Notas com filtros\n",
    "            'deals': [{'id': codigoNegocio}]}\n",
    "\n",
    "req = requests.post(url=\"https://api.moskitcrm.com/v2/activities\", headers=head, json=payLoad)\n",
    "\n",
    "print(req.status_code)\n",
    "print(req.json())\n",
    "codigoAtividade = req.json()['id']"
   ]
  },
  {
   "attachments": {},
   "cell_type": "markdown",
   "metadata": {},
   "source": [
    "## Criando empresa e linkando com o negócio"
   ]
  },
  {
   "cell_type": "code",
   "execution_count": 5,
   "metadata": {},
   "outputs": [
    {
     "name": "stdout",
     "output_type": "stream",
     "text": [
      "200\n",
      "{'id': 6332763, 'name': 'Empresa Inventada 1 API', 'source': 'MOSKIT_API_V2', 'origin': 'API V2', 'dateCreated': '2023-01-02T13:34:17.024+00:00', 'createdBy': {'id': 35345}, 'responsible': {'id': 35345}, 'primaryEmail': {'id': 17764030}, 'primaryPhone': {'id': 23802950}, 'deals': [{'id': 20314949}], 'emails': [{'id': 17764030, 'address': 'empresaInventada@inventado.com.br'}], 'phones': [{'id': 23802950, 'number': '5133333333'}], 'lastAssignedDate': '2023-01-02T13:34:17.024+00:00', 'doneActivities': 0, 'pendingActivities': 0, 'totalNotes': 0, 'totalInteractions': 0, 'lastInteraction': '2023-01-02T13:34:17.024+00:00', 'wonDeals': 0, 'lostDeals': 0, 'runningDeals': 0}\n"
     ]
    }
   ],
   "source": [
    "payLoad = {\"createdBy\": {\"id\": 35345}, # Id do vendedor responsavel\n",
    "            \"responsible\": {\"id\": 35345}, # Id do vendedor responsavel\n",
    "            \"name\": \"Empresa Inventada 2 API\", # Nome da empresa\n",
    "            'phones': [{'number': \"5133333333\"}], # Telefone da empresa\n",
    "            'emails': [{'address': \"empresaInventada@inventado.com.br\"}],\n",
    "            'deals': [{'id': codigoNegocio}]} # Negocio para linkar\n",
    "\n",
    "req = requests.post(url=\"https://api.moskitcrm.com/v2/companies\", json=payLoad, headers=head)\n",
    "\n",
    "print(req.status_code)\n",
    "print(req.json())\n",
    "codigoEmpresa = req.json()['id']"
   ]
  },
  {
   "attachments": {},
   "cell_type": "markdown",
   "metadata": {},
   "source": [
    "## Criando contato e linkando com negócio e empresa"
   ]
  },
  {
   "cell_type": "code",
   "execution_count": 6,
   "metadata": {},
   "outputs": [
    {
     "name": "stdout",
     "output_type": "stream",
     "text": [
      "200\n",
      "{'id': 20775559, 'name': 'Contato Principal Empresa Inventada 1', 'source': 'MOSKIT_API_V2', 'origin': 'API V2', 'dateCreated': '2023-01-02T13:34:20.830+00:00', 'createdBy': {'id': 35345}, 'responsible': {'id': 35345}, 'primaryEmail': {'id': 17764031}, 'primaryPhone': {'id': 23802951}, 'employers': [{'company': {'id': 6332763}}], 'deals': [{'id': 20314949}], 'emails': [{'id': 17764031, 'address': 'contatoEmpresaInventada@inventado.com.br'}], 'phones': [{'id': 23802951, 'number': '5199999999'}], 'lastAssignedDate': '2023-01-02T13:34:20.830+00:00', 'emailsSent': 0, 'emailsOpened': 0, 'emailsClicked': 0, 'doneActivities': 0, 'pendingActivities': 0, 'totalNotes': 0, 'totalInteractions': 0, 'lastInteraction': '2023-01-02T13:34:20.830+00:00', 'wonDeals': 0, 'lostDeals': 0, 'runningDeals': 0}\n"
     ]
    }
   ],
   "source": [
    "payLoad = {'createdBy': {'id': 35345}, # Id do vendedor responsavel\n",
    "            'responsible': {'id': 35345}, # Id do vendedor responsavel\n",
    "            'name': \"Contato Principal Empresa Inventada 2\",\n",
    "            'phones': [{'number': \"5199999999\"}],\n",
    "            'emails': [{'address': \"contatoEmpresaInventada@inventado.com.br\"}],\n",
    "            'deals': [{'id': codigoNegocio}], # Id do negocio para linkar\n",
    "            'employers': [{'company': {'id': codigoEmpresa}}]} # Id da empresa para linkar\n",
    "\n",
    "req = requests.post(url=\"https://api.moskitcrm.com/v2/contacts\", json=payLoad, headers=head)\n",
    "\n",
    "print(req.status_code)\n",
    "print(req.json())\n",
    "codigoContato= req.json()['id']"
   ]
  },
  {
   "cell_type": "code",
   "execution_count": 34,
   "metadata": {},
   "outputs": [
    {
     "name": "stdout",
     "output_type": "stream",
     "text": [
      "200\n",
      "{'id': 4787072, 'createdBy': {'id': 36432}, 'responsible': {'id': 36432}, 'dateCreated': '2022-01-27T18:29:15.000+00:00', 'name': 'SH FORMAS ANDAIMES E ESCORAMENTOS LTDA', 'source': 'EXACT', 'origin': 'Exact', 'primaryPhone': {'id': 16688008}, 'phones': [{'id': 16688008, 'number': '5134418600'}], 'doneActivities': 2, 'lostDeals': 0, 'pendingActivities': 0, 'runningDeals': 1, 'totalInteractions': 2, 'totalNotes': 0, 'wonDeals': 0, 'lastActivityDone': '2022-09-28T17:01:22.000+00:00', 'lastAssignedDate': '2022-01-27T18:29:15.000+00:00', 'lastInteraction': '2022-09-28T17:01:22.000+00:00', 'lostDealsAsParticipant': 0, 'runningDealsAsParticipant': 0, 'wonDealsAsParticipant': 0, 'employees': [{'contact': {'id': 14729043}, 'jobTitle': '05-Administrador'}], 'activities': [{'id': 19603267}, {'id': 19698717}], 'deals': [{'id': 13914778}], 'entityCustomFields': [{'id': 'CF_AE5mppU8S0E8xmO3', 'numericValue': 14255068}, {'id': 'CF_AE5mppUjC0E8pmO3', 'textValue': 'N-7732-2/02 - Aluguel de andaimes'}, {'id': 'CF_075MJlUjCB0EoDaz', 'textValue': 'Prospecção Ativa'}, {'id': 'CF_VRAqd4UdC5Q43qbL', 'textValue': 'vinicius.pizzinato@elysia.com.br'}, {'id': 'CF_0WGqopUKCrGKAMnP', 'textValue': 'Rua Ítalo Raffo, 465 - Cedic, Cachoeirinha - RS'}, {'id': 'CF_6rRmw4UvCbRalD4X', 'textValue': 'Cachoeirinha'}, {'id': 'CF_vG0mROUkCXY82DbV', 'textValue': 'Rio Grande do Sul'}]}\n"
     ]
    }
   ],
   "source": [
    "req = requests.get(\"https://api.moskitcrm.com/v2/companies/4787072\", headers=head)\n",
    "print(req.status_code)\n",
    "print(req.json())"
   ]
  },
  {
   "cell_type": "code",
   "execution_count": 63,
   "metadata": {},
   "outputs": [
    {
     "name": "stdout",
     "output_type": "stream",
     "text": [
      "200\n",
      "{'id': 'CF_wPVm2bU2CbRR9mK6', 'dateCreated': '2023-01-06T17:08:45.527+00:00', 'name': 'Mercado do Lead', 'type': 'TEXT', 'module': 'COMPANY', 'priority': 6, 'active': True}\n"
     ]
    }
   ],
   "source": [
    "payLoad = {\"name\": \"Mercado do Lead\",\n",
    "            \"active\": True,\n",
    "            \"module\": \"COMPANY\",\n",
    "            \"type\": \"TEXT\"}\n",
    "\n",
    "req = requests.post(\"https://api.moskitcrm.com/v2/customFields\", headers=head, json=payLoad)\n",
    "print(req.status_code)\n",
    "print(req.json())"
   ]
  },
  {
   "cell_type": "code",
   "execution_count": 56,
   "metadata": {},
   "outputs": [
    {
     "name": "stdout",
     "output_type": "stream",
     "text": [
      "200\n",
      "[{'name': 'Tipo de Cliente', 'active': True, 'priority': 1, 'type': 'SINGLE_OPTION', 'module': 'DEAL', 'id': 'CF_E79Mr2iLijBggMZJ'}, {'name': 'Consumo Medio (kWh)', 'active': True, 'priority': 7, 'type': 'NUMBER', 'module': 'DEAL', 'id': 'CF_vG0mR0iPSXL06qbV'}, {'name': 'Celular', 'active': True, 'priority': 5, 'category': {'id': 2217}, 'type': 'NUMBER', 'module': 'DEAL', 'id': 'CF_K7Rm8QiNSal4ZDbN'}, {'name': 'Numero da UC', 'active': True, 'priority': 4, 'type': 'NUMBER', 'module': 'DEAL', 'id': 'CF_POEMywiYS6rp3Ddk'}, {'name': 'Cidade', 'active': True, 'priority': 2, 'type': 'TEXT', 'module': 'DEAL', 'id': 'CF_wPVm2Vi2CeBRGmK6'}, {'name': 'Estado', 'active': True, 'priority': 3, 'type': 'TEXT', 'module': 'DEAL', 'id': 'CF_42AmaJiZCW780Djl'}, {'name': 'CNPJ', 'active': True, 'priority': 6, 'type': 'NUMBER', 'module': 'DEAL', 'id': 'CF_3nGqEoiPS05Z9mYA'}, {'name': 'CEP', 'active': True, 'priority': 8, 'pipelines': [{'id': 25301}], 'category': {'id': 2217}, 'type': 'TEXT', 'module': 'DEAL', 'id': 'CF_QJXmA5ijCdbzom25'}, {'name': 'Endereço', 'active': True, 'priority': 1, 'category': {'id': 2217}, 'type': 'ADDRESS', 'module': 'CONTACT', 'id': 'CF_Lo1qjjS1Cwjr1qer'}, {'name': '1893501-XPsmncoR Endereço', 'active': True, 'priority': 1, 'type': 'ADDRESS', 'module': 'COMPANY', 'id': 'CF_K7Rm8yURCa4g7DbN'}, {'name': 'Email', 'active': True, 'priority': 2, 'type': 'TEXT', 'module': 'COMPANY', 'id': 'CF_gvGm31U0CN9Wgq45'}, {'name': 'Telefone', 'active': True, 'priority': 2, 'type': 'TEXT', 'module': 'COMPANY', 'id': 'CF_POEMy6UeC678Emdk'}, {'name': 'UC', 'active': True, 'priority': 3, 'type': 'TEXT', 'module': 'CONTACT', 'id': 'CF_3LvDvKS4CBdGVq6a'}, {'name': 'CEP', 'active': True, 'priority': 4, 'type': 'TEXT', 'module': 'CONTACT', 'id': 'CF_wGrqzySVCjBkBDLo'}, {'name': 'CPF', 'active': True, 'priority': 5, 'type': 'TEXT', 'module': 'CONTACT', 'id': 'CF_E79MrESoCjgabqZJ'}, {'name': 'Conta de Luz', 'active': True, 'priority': 6, 'type': 'TEXT', 'module': 'CONTACT', 'id': 'CF_8P5q4aS2COJAwMRJ'}, {'name': 'Contrato ContaAzul', 'active': True, 'priority': 9, 'type': 'SINGLE_OPTION', 'module': 'DEAL', 'id': 'CF_3nGqEoiJi01aLmYA'}, {'name': 'Cobrança do ContaAzul', 'active': True, 'priority': 10, 'type': 'SINGLE_OPTION', 'module': 'DEAL', 'id': 'CF_lXODObivipj3ymaN'}, {'name': 'Vigência do contrato no ContaAzul', 'active': True, 'priority': 11, 'type': 'SINGLE_OPTION', 'module': 'DEAL', 'id': 'CF_g40MLBi2i7AjdD29'}, {'name': 'Mercado', 'active': True, 'priority': 12, 'type': 'TEXT', 'module': 'DEAL', 'id': 'CF_lXODObiYCpj30maN'}, {'name': 'Produto', 'active': True, 'priority': 13, 'type': 'TEXT', 'module': 'DEAL', 'id': 'CF_g40MLBiPC7AjVD29'}, {'name': 'Site', 'active': True, 'priority': 14, 'type': 'TEXT', 'module': 'DEAL', 'id': 'CF_GwyMgWi9CWV9ZMLA'}, {'name': 'Motivo de perda aberto', 'active': True, 'priority': 15, 'type': 'TEXT', 'module': 'DEAL', 'id': 'CF_2wpDlkinCV1a2mvL'}, {'name': 'Referencia', 'active': True, 'priority': 16, 'type': 'TEXT', 'module': 'DEAL', 'id': 'CF_gPpD7OikC7Kd5Dvo'}, {'name': 'Origem do Lead', 'active': True, 'priority': 17, 'category': {'id': 2217}, 'type': 'SINGLE_OPTION', 'module': 'DEAL', 'id': 'CF_AE5mpEiQi0X5kDO3'}, {'name': 'Endereço', 'active': True, 'priority': 18, 'category': {'id': 2217}, 'type': 'ADDRESS', 'module': 'DEAL', 'id': 'CF_3NrDZAinCXegvmP5'}, {'name': 'Previsão:', 'active': True, 'priority': 19, 'pipelines': [{'id': 25301}], 'category': {'id': 2217}, 'type': 'TEXT', 'module': 'DEAL', 'id': 'CF_gvGm3Bi0CNZVZM45'}, {'name': 'Qualificador', 'active': True, 'priority': 20, 'category': {'id': 2217}, 'type': 'SINGLE_OPTION', 'module': 'DEAL', 'id': 'CF_075MJ2i4iBbOpMaz'}, {'name': 'Quem Indicou:', 'active': True, 'priority': 21, 'category': {'id': 2217}, 'type': 'TEXT', 'module': 'DEAL', 'id': 'CF_0WGqoEiKC9VEPmnP'}, {'name': 'Último vendedor que interagiu', 'description': 'Não apagar esse cadastro', 'active': True, 'priority': 8, 'type': 'TEXT', 'module': 'CONTACT', 'id': 'CF_ylAm0KS6C5Bj7Mvb'}, {'name': 'Origem Mercado', 'active': True, 'priority': 22, 'category': {'id': 2217}, 'type': 'TEXT', 'module': 'DEAL', 'id': 'CF_YXoDkki3CVPk7DGE'}, {'name': 'SDR', 'active': True, 'priority': 23, 'category': {'id': 2217}, 'type': 'TEXT', 'module': 'DEAL', 'id': 'CF_dVKmQ5i1CdBeWmWR'}, {'name': 'Pré-Vendedor', 'active': True, 'priority': 3, 'type': 'TEXT', 'module': 'COMPANY', 'id': 'CF_gvGm31U0Cz55Qq45'}]\n"
     ]
    }
   ],
   "source": [
    "req = requests.get(\"https://api.moskitcrm.com/v2/customFields\", headers=head, params={'quantity': 50})\n",
    "print(req.status_code)\n",
    "print(req.json())"
   ]
  },
  {
   "cell_type": "code",
   "execution_count": 64,
   "metadata": {},
   "outputs": [
    {
     "name": "stdout",
     "output_type": "stream",
     "text": [
      "200\n",
      "{'id': 6354116, 'name': 'Empresa Teste api', 'source': 'MOSKIT_API_V2', 'origin': 'Spotter_Integracao_TI_Elysia', 'dateCreated': '2023-01-06T17:09:12.069+00:00', 'createdBy': {'id': 35345}, 'responsible': {'id': 35345}, 'primaryEmail': {'id': 17845700}, 'primaryPhone': {'id': 23909660}, 'emails': [{'id': 17845700, 'address': 'empresaInventada@inventado.com.br'}], 'phones': [{'id': 23909660, 'number': '5133333333'}], 'entityCustomFields': [{'textValue': 'Endereco completo', 'id': 'CF_POEMy6UeCJGGjmdk'}, {'textValue': 'Lukas Machado', 'id': 'CF_gvGm31U0Cz55Qq45'}, {'textValue': 'Q NAI', 'id': 'CF_wPVm2bU2CbRR9mK6'}, {'textValue': 'Prospecção Ativa', 'id': 'CF_Rg7MnpULCAQQBDvd'}], 'lastAssignedDate': '2023-01-06T17:09:12.069+00:00', 'doneActivities': 0, 'pendingActivities': 0, 'totalNotes': 0, 'totalInteractions': 0, 'lastInteraction': '2023-01-06T17:09:12.069+00:00', 'wonDeals': 0, 'lostDeals': 0, 'runningDeals': 0}\n"
     ]
    }
   ],
   "source": [
    "payLoad = {\"createdBy\": {\"id\": 35345}, # Id do vendedor responsavel\n",
    "            \"responsible\": {\"id\": 35345}, # Id do vendedor responsavel\n",
    "            \"name\": \"Empresa Teste api\", # Nome da empresa\n",
    "            'phones': [{'number': \"5133333333\"}], # Telefone da empresa\n",
    "            'emails': [{'address': \"empresaInventada@inventado.com.br\"}],\n",
    "            'entityCustomFields': [{'id': 'CF_POEMy6UeCJGGjmdk', 'textValue': 'Endereco completo'},\n",
    "                                    {'id': 'CF_gvGm31U0Cz55Qq45', 'textValue': 'Lukas Machado'},\n",
    "                                    {'id': 'CF_wPVm2bU2CbRR9mK6', 'textValue': 'Q NAI'},              \n",
    "                                    {'id': 'CF_Rg7MnpULCAQQBDvd', 'textValue': 'Prospecção Ativa'}]}\n",
    "\n",
    "req = requests.post(url=\"https://api.moskitcrm.com/v2/companies\", json=payLoad, headers=head)\n",
    "\n",
    "print(req.status_code)\n",
    "print(req.json())\n",
    "codigoEmpresa = req.json()['id']"
   ]
  },
  {
   "cell_type": "code",
   "execution_count": null,
   "metadata": {},
   "outputs": [],
   "source": []
  }
 ],
 "metadata": {
  "kernelspec": {
   "display_name": "envIntegracao",
   "language": "python",
   "name": "python3"
  },
  "language_info": {
   "codemirror_mode": {
    "name": "ipython",
    "version": 3
   },
   "file_extension": ".py",
   "mimetype": "text/x-python",
   "name": "python",
   "nbconvert_exporter": "python",
   "pygments_lexer": "ipython3",
   "version": "3.10.8"
  },
  "orig_nbformat": 4,
  "vscode": {
   "interpreter": {
    "hash": "1b26e2f8e961ab3af3280453c3aba252cf5b0872d5abffcce756b47b945d6198"
   }
  }
 },
 "nbformat": 4,
 "nbformat_minor": 2
}
